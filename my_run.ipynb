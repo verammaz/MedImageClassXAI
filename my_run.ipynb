{
  "cells": [
    {
      "cell_type": "code",
      "execution_count": 10,
      "metadata": {
        "colab": {
          "base_uri": "https://localhost:8080/"
        },
        "id": "GAr1fUpiP3M6",
        "outputId": "e5f582e3-6b8d-4066-bca4-b019c2c22bcd"
      },
      "outputs": [
        {
          "name": "stderr",
          "output_type": "stream",
          "text": [
            "\u001b[34m\u001b[1mwandb\u001b[0m: Currently logged in as: \u001b[33mvmazeeva\u001b[0m (\u001b[33mvmazeeva-carnegie-mellon-university\u001b[0m). Use \u001b[1m`wandb login --relogin`\u001b[0m to force relogin\n"
          ]
        },
        {
          "data": {
            "text/plain": [
              "True"
            ]
          },
          "execution_count": 10,
          "metadata": {},
          "output_type": "execute_result"
        }
      ],
      "source": [
        "import wandb\n",
        "wandb.login()"
      ]
    },
    {
      "cell_type": "code",
      "execution_count": 1,
      "metadata": {
        "id": "-aOSKycOOFxO"
      },
      "outputs": [],
      "source": [
        "import os\n",
        "os.environ[\"WANDB_SILENT\"] = \"true\""
      ]
    },
    {
      "cell_type": "code",
      "execution_count": null,
      "metadata": {
        "colab": {
          "base_uri": "https://localhost:8080/"
        },
        "id": "GuHuC0uMOFxO",
        "outputId": "806e3885-625d-4cee-cbf9-ede6b13789d2"
      },
      "outputs": [
        {
          "name": "stderr",
          "output_type": "stream",
          "text": [
            "python(96531) MallocStackLogging: can't turn off malloc stack logging because it was not enabled.\n"
          ]
        },
        {
          "name": "stdout",
          "output_type": "stream",
          "text": [
            "/opt/anaconda3/envs/ml_ai/lib/python3.11/site-packages/torchvision/models/_utils.py:208: UserWarning: The parameter 'pretrained' is deprecated since 0.13 and may be removed in the future, please use 'weights' instead.\n",
            "  warnings.warn(\n",
            "/opt/anaconda3/envs/ml_ai/lib/python3.11/site-packages/torchvision/models/_utils.py:223: UserWarning: Arguments other than a weight enum or `None` for 'weights' are deprecated since 0.13 and may be removed in the future. The current behavior is equivalent to passing `weights=ResNet18_Weights.IMAGENET1K_V1`. You can also use `weights=ResNet18_Weights.DEFAULT` to get the most up-to-date weights.\n",
            "  warnings.warn(msg)\n",
            "Training on device: mps\n",
            "\n",
            "Epoch 1\n",
            "----------------------\n",
            "Train:   5%|▌         | 4/74 [00:34<08:00,  6.86s/it, acc=71.8750%, loss=0.6512]^C\n"
          ]
        },
        {
          "name": "stderr",
          "output_type": "stream",
          "text": [
            "wandb-core(33789) MallocStackLogging: can't turn off malloc stack logging because it was not enabled.\n",
            "wandb-core(33800) MallocStackLogging: can't turn off malloc stack logging because it was not enabled.\n",
            "wandb-core(33801) MallocStackLogging: can't turn off malloc stack logging because it was not enabled.\n",
            "wandb-core(33802) MallocStackLogging: can't turn off malloc stack logging because it was not enabled.\n",
            "wandb-core(33803) MallocStackLogging: can't turn off malloc stack logging because it was not enabled.\n",
            "wandb-core(33812) MallocStackLogging: can't turn off malloc stack logging because it was not enabled.\n",
            "wandb-core(33834) MallocStackLogging: can't turn off malloc stack logging because it was not enabled.\n",
            "wandb-core(33835) MallocStackLogging: can't turn off malloc stack logging because it was not enabled.\n",
            "wandb-core(33836) MallocStackLogging: can't turn off malloc stack logging because it was not enabled.\n",
            "wandb-core(33837) MallocStackLogging: can't turn off malloc stack logging because it was not enabled.\n",
            "wandb-core(33839) MallocStackLogging: can't turn off malloc stack logging because it was not enabled.\n",
            "wandb-core(33844) MallocStackLogging: can't turn off malloc stack logging because it was not enabled.\n",
            "wandb-core(33845) MallocStackLogging: can't turn off malloc stack logging because it was not enabled.\n",
            "wandb-core(33846) MallocStackLogging: can't turn off malloc stack logging because it was not enabled.\n",
            "wandb-core(33849) MallocStackLogging: can't turn off malloc stack logging because it was not enabled.\n",
            "wandb-core(33854) MallocStackLogging: can't turn off malloc stack logging because it was not enabled.\n",
            "wandb-core(33862) MallocStackLogging: can't turn off malloc stack logging because it was not enabled.\n",
            "wandb-core(33863) MallocStackLogging: can't turn off malloc stack logging because it was not enabled.\n",
            "wandb-core(33864) MallocStackLogging: can't turn off malloc stack logging because it was not enabled.\n",
            "wandb-core(33872) MallocStackLogging: can't turn off malloc stack logging because it was not enabled.\n",
            "wandb-core(33873) MallocStackLogging: can't turn off malloc stack logging because it was not enabled.\n",
            "wandb-core(33881) MallocStackLogging: can't turn off malloc stack logging because it was not enabled.\n",
            "wandb-core(33882) MallocStackLogging: can't turn off malloc stack logging because it was not enabled.\n",
            "wandb-core(33883) MallocStackLogging: can't turn off malloc stack logging because it was not enabled.\n",
            "wandb-core(33891) MallocStackLogging: can't turn off malloc stack logging because it was not enabled.\n",
            "wandb-core(33892) MallocStackLogging: can't turn off malloc stack logging because it was not enabled.\n",
            "wandb-core(33909) MallocStackLogging: can't turn off malloc stack logging because it was not enabled.\n",
            "wandb-core(33910) MallocStackLogging: can't turn off malloc stack logging because it was not enabled.\n",
            "wandb-core(33911) MallocStackLogging: can't turn off malloc stack logging because it was not enabled.\n",
            "wandb-core(33919) MallocStackLogging: can't turn off malloc stack logging because it was not enabled.\n",
            "wandb-core(33921) MallocStackLogging: can't turn off malloc stack logging because it was not enabled.\n",
            "wandb-core(33929) MallocStackLogging: can't turn off malloc stack logging because it was not enabled.\n",
            "wandb-core(33930) MallocStackLogging: can't turn off malloc stack logging because it was not enabled.\n",
            "wandb-core(33931) MallocStackLogging: can't turn off malloc stack logging because it was not enabled.\n",
            "wandb-core(33932) MallocStackLogging: can't turn off malloc stack logging because it was not enabled.\n",
            "wandb-core(33933) MallocStackLogging: can't turn off malloc stack logging because it was not enabled.\n",
            "wandb-core(33934) MallocStackLogging: can't turn off malloc stack logging because it was not enabled.\n",
            "wandb-core(33935) MallocStackLogging: can't turn off malloc stack logging because it was not enabled.\n",
            "wandb-core(33936) MallocStackLogging: can't turn off malloc stack logging because it was not enabled.\n",
            "wandb-core(33937) MallocStackLogging: can't turn off malloc stack logging because it was not enabled.\n",
            "wandb-core(33938) MallocStackLogging: can't turn off malloc stack logging because it was not enabled.\n",
            "wandb-core(33939) MallocStackLogging: can't turn off malloc stack logging because it was not enabled.\n",
            "wandb-core(33940) MallocStackLogging: can't turn off malloc stack logging because it was not enabled.\n",
            "wandb-core(33941) MallocStackLogging: can't turn off malloc stack logging because it was not enabled.\n",
            "wandb-core(33942) MallocStackLogging: can't turn off malloc stack logging because it was not enabled.\n",
            "wandb-core(33944) MallocStackLogging: can't turn off malloc stack logging because it was not enabled.\n",
            "wandb-core(33945) MallocStackLogging: can't turn off malloc stack logging because it was not enabled.\n",
            "wandb-core(33946) MallocStackLogging: can't turn off malloc stack logging because it was not enabled.\n",
            "wandb-core(33947) MallocStackLogging: can't turn off malloc stack logging because it was not enabled.\n",
            "wandb-core(33948) MallocStackLogging: can't turn off malloc stack logging because it was not enabled.\n",
            "wandb-core(33949) MallocStackLogging: can't turn off malloc stack logging because it was not enabled.\n",
            "wandb-core(33950) MallocStackLogging: can't turn off malloc stack logging because it was not enabled.\n",
            "wandb-core(33951) MallocStackLogging: can't turn off malloc stack logging because it was not enabled.\n",
            "wandb-core(33952) MallocStackLogging: can't turn off malloc stack logging because it was not enabled.\n",
            "wandb-core(33953) MallocStackLogging: can't turn off malloc stack logging because it was not enabled.\n",
            "wandb-core(33954) MallocStackLogging: can't turn off malloc stack logging because it was not enabled.\n",
            "wandb-core(33963) MallocStackLogging: can't turn off malloc stack logging because it was not enabled.\n",
            "wandb-core(33964) MallocStackLogging: can't turn off malloc stack logging because it was not enabled.\n",
            "wandb-core(33965) MallocStackLogging: can't turn off malloc stack logging because it was not enabled.\n",
            "wandb-core(33966) MallocStackLogging: can't turn off malloc stack logging because it was not enabled.\n",
            "wandb-core(33976) MallocStackLogging: can't turn off malloc stack logging because it was not enabled.\n",
            "wandb-core(33978) MallocStackLogging: can't turn off malloc stack logging because it was not enabled.\n",
            "wandb-core(33979) MallocStackLogging: can't turn off malloc stack logging because it was not enabled.\n",
            "wandb-core(33980) MallocStackLogging: can't turn off malloc stack logging because it was not enabled.\n",
            "wandb-core(33981) MallocStackLogging: can't turn off malloc stack logging because it was not enabled.\n",
            "wandb-core(33991) MallocStackLogging: can't turn off malloc stack logging because it was not enabled.\n",
            "wandb-core(34004) MallocStackLogging: can't turn off malloc stack logging because it was not enabled.\n",
            "wandb-core(34005) MallocStackLogging: can't turn off malloc stack logging because it was not enabled.\n",
            "wandb-core(34006) MallocStackLogging: can't turn off malloc stack logging because it was not enabled.\n",
            "wandb-core(34007) MallocStackLogging: can't turn off malloc stack logging because it was not enabled.\n",
            "wandb-core(34049) MallocStackLogging: can't turn off malloc stack logging because it was not enabled.\n",
            "wandb-core(34061) MallocStackLogging: can't turn off malloc stack logging because it was not enabled.\n",
            "wandb-core(34062) MallocStackLogging: can't turn off malloc stack logging because it was not enabled.\n",
            "wandb-core(34063) MallocStackLogging: can't turn off malloc stack logging because it was not enabled.\n",
            "wandb-core(34064) MallocStackLogging: can't turn off malloc stack logging because it was not enabled.\n",
            "wandb-core(34074) MallocStackLogging: can't turn off malloc stack logging because it was not enabled.\n",
            "wandb-core(34084) MallocStackLogging: can't turn off malloc stack logging because it was not enabled.\n",
            "wandb-core(34086) MallocStackLogging: can't turn off malloc stack logging because it was not enabled.\n",
            "wandb-core(34087) MallocStackLogging: can't turn off malloc stack logging because it was not enabled.\n",
            "wandb-core(34089) MallocStackLogging: can't turn off malloc stack logging because it was not enabled.\n",
            "wandb-core(34097) MallocStackLogging: can't turn off malloc stack logging because it was not enabled.\n",
            "wandb-core(34106) MallocStackLogging: can't turn off malloc stack logging because it was not enabled.\n",
            "wandb-core(34107) MallocStackLogging: can't turn off malloc stack logging because it was not enabled.\n",
            "wandb-core(34109) MallocStackLogging: can't turn off malloc stack logging because it was not enabled.\n",
            "wandb-core(34110) MallocStackLogging: can't turn off malloc stack logging because it was not enabled.\n",
            "wandb-core(34122) MallocStackLogging: can't turn off malloc stack logging because it was not enabled.\n",
            "wandb-core(34123) MallocStackLogging: can't turn off malloc stack logging because it was not enabled.\n",
            "wandb-core(34124) MallocStackLogging: can't turn off malloc stack logging because it was not enabled.\n",
            "wandb-core(34125) MallocStackLogging: can't turn off malloc stack logging because it was not enabled.\n",
            "wandb-core(34126) MallocStackLogging: can't turn off malloc stack logging because it was not enabled.\n",
            "wandb-core(34130) MallocStackLogging: can't turn off malloc stack logging because it was not enabled.\n",
            "wandb-core(34133) MallocStackLogging: can't turn off malloc stack logging because it was not enabled.\n",
            "wandb-core(34134) MallocStackLogging: can't turn off malloc stack logging because it was not enabled.\n",
            "wandb-core(34135) MallocStackLogging: can't turn off malloc stack logging because it was not enabled.\n",
            "wandb-core(34136) MallocStackLogging: can't turn off malloc stack logging because it was not enabled.\n",
            "wandb-core(34138) MallocStackLogging: can't turn off malloc stack logging because it was not enabled.\n",
            "wandb-core(34144) MallocStackLogging: can't turn off malloc stack logging because it was not enabled.\n",
            "wandb-core(34145) MallocStackLogging: can't turn off malloc stack logging because it was not enabled.\n",
            "wandb-core(34146) MallocStackLogging: can't turn off malloc stack logging because it was not enabled.\n",
            "wandb-core(34147) MallocStackLogging: can't turn off malloc stack logging because it was not enabled.\n",
            "wandb-core(34148) MallocStackLogging: can't turn off malloc stack logging because it was not enabled.\n",
            "wandb-core(34149) MallocStackLogging: can't turn off malloc stack logging because it was not enabled.\n",
            "wandb-core(34150) MallocStackLogging: can't turn off malloc stack logging because it was not enabled.\n",
            "wandb-core(34151) MallocStackLogging: can't turn off malloc stack logging because it was not enabled.\n",
            "wandb-core(34152) MallocStackLogging: can't turn off malloc stack logging because it was not enabled.\n",
            "wandb-core(34154) MallocStackLogging: can't turn off malloc stack logging because it was not enabled.\n",
            "wandb-core(34155) MallocStackLogging: can't turn off malloc stack logging because it was not enabled.\n",
            "wandb-core(34156) MallocStackLogging: can't turn off malloc stack logging because it was not enabled.\n",
            "wandb-core(34157) MallocStackLogging: can't turn off malloc stack logging because it was not enabled.\n",
            "wandb-core(34158) MallocStackLogging: can't turn off malloc stack logging because it was not enabled.\n",
            "wandb-core(34159) MallocStackLogging: can't turn off malloc stack logging because it was not enabled.\n",
            "wandb-core(34160) MallocStackLogging: can't turn off malloc stack logging because it was not enabled.\n",
            "wandb-core(34161) MallocStackLogging: can't turn off malloc stack logging because it was not enabled.\n",
            "wandb-core(34165) MallocStackLogging: can't turn off malloc stack logging because it was not enabled.\n",
            "wandb-core(34182) MallocStackLogging: can't turn off malloc stack logging because it was not enabled.\n",
            "wandb-core(34185) MallocStackLogging: can't turn off malloc stack logging because it was not enabled.\n",
            "wandb-core(34193) MallocStackLogging: can't turn off malloc stack logging because it was not enabled.\n",
            "wandb-core(34194) MallocStackLogging: can't turn off malloc stack logging because it was not enabled.\n",
            "wandb-core(34195) MallocStackLogging: can't turn off malloc stack logging because it was not enabled.\n",
            "wandb-core(34203) MallocStackLogging: can't turn off malloc stack logging because it was not enabled.\n",
            "wandb-core(34206) MallocStackLogging: can't turn off malloc stack logging because it was not enabled.\n",
            "wandb-core(34214) MallocStackLogging: can't turn off malloc stack logging because it was not enabled.\n",
            "wandb-core(34215) MallocStackLogging: can't turn off malloc stack logging because it was not enabled.\n",
            "wandb-core(34216) MallocStackLogging: can't turn off malloc stack logging because it was not enabled.\n",
            "wandb-core(34224) MallocStackLogging: can't turn off malloc stack logging because it was not enabled.\n",
            "wandb-core(34225) MallocStackLogging: can't turn off malloc stack logging because it was not enabled.\n",
            "wandb-core(34247) MallocStackLogging: can't turn off malloc stack logging because it was not enabled.\n",
            "wandb-core(34248) MallocStackLogging: can't turn off malloc stack logging because it was not enabled.\n",
            "wandb-core(34249) MallocStackLogging: can't turn off malloc stack logging because it was not enabled.\n",
            "wandb-core(34257) MallocStackLogging: can't turn off malloc stack logging because it was not enabled.\n",
            "wandb-core(34258) MallocStackLogging: can't turn off malloc stack logging because it was not enabled.\n",
            "wandb-core(34271) MallocStackLogging: can't turn off malloc stack logging because it was not enabled.\n",
            "wandb-core(34272) MallocStackLogging: can't turn off malloc stack logging because it was not enabled.\n",
            "wandb-core(34274) MallocStackLogging: can't turn off malloc stack logging because it was not enabled.\n",
            "wandb-core(34290) MallocStackLogging: can't turn off malloc stack logging because it was not enabled.\n",
            "wandb-core(34296) MallocStackLogging: can't turn off malloc stack logging because it was not enabled.\n",
            "wandb-core(34306) MallocStackLogging: can't turn off malloc stack logging because it was not enabled.\n",
            "wandb-core(34307) MallocStackLogging: can't turn off malloc stack logging because it was not enabled.\n",
            "wandb-core(34308) MallocStackLogging: can't turn off malloc stack logging because it was not enabled.\n",
            "wandb-core(34316) MallocStackLogging: can't turn off malloc stack logging because it was not enabled.\n",
            "wandb-core(34319) MallocStackLogging: can't turn off malloc stack logging because it was not enabled.\n",
            "wandb-core(34330) MallocStackLogging: can't turn off malloc stack logging because it was not enabled.\n",
            "wandb-core(34332) MallocStackLogging: can't turn off malloc stack logging because it was not enabled.\n",
            "wandb-core(34333) MallocStackLogging: can't turn off malloc stack logging because it was not enabled.\n",
            "wandb-core(34344) MallocStackLogging: can't turn off malloc stack logging because it was not enabled.\n",
            "wandb-core(34365) MallocStackLogging: can't turn off malloc stack logging because it was not enabled.\n",
            "wandb-core(34374) MallocStackLogging: can't turn off malloc stack logging because it was not enabled.\n",
            "wandb-core(34375) MallocStackLogging: can't turn off malloc stack logging because it was not enabled.\n",
            "wandb-core(34376) MallocStackLogging: can't turn off malloc stack logging because it was not enabled.\n",
            "wandb-core(34384) MallocStackLogging: can't turn off malloc stack logging because it was not enabled.\n",
            "wandb-core(34387) MallocStackLogging: can't turn off malloc stack logging because it was not enabled.\n",
            "wandb-core(34395) MallocStackLogging: can't turn off malloc stack logging because it was not enabled.\n",
            "wandb-core(34396) MallocStackLogging: can't turn off malloc stack logging because it was not enabled.\n",
            "wandb-core(34397) MallocStackLogging: can't turn off malloc stack logging because it was not enabled.\n",
            "wandb-core(34399) MallocStackLogging: can't turn off malloc stack logging because it was not enabled.\n",
            "wandb-core(34408) MallocStackLogging: can't turn off malloc stack logging because it was not enabled.\n",
            "wandb-core(34418) MallocStackLogging: can't turn off malloc stack logging because it was not enabled.\n",
            "wandb-core(34419) MallocStackLogging: can't turn off malloc stack logging because it was not enabled.\n",
            "wandb-core(34420) MallocStackLogging: can't turn off malloc stack logging because it was not enabled.\n",
            "wandb-core(34421) MallocStackLogging: can't turn off malloc stack logging because it was not enabled.\n",
            "wandb-core(34430) MallocStackLogging: can't turn off malloc stack logging because it was not enabled.\n",
            "wandb-core(34444) MallocStackLogging: can't turn off malloc stack logging because it was not enabled.\n",
            "wandb-core(34445) MallocStackLogging: can't turn off malloc stack logging because it was not enabled.\n",
            "wandb-core(34446) MallocStackLogging: can't turn off malloc stack logging because it was not enabled.\n",
            "wandb-core(34447) MallocStackLogging: can't turn off malloc stack logging because it was not enabled.\n",
            "wandb-core(34457) MallocStackLogging: can't turn off malloc stack logging because it was not enabled.\n",
            "wandb-core(34471) MallocStackLogging: can't turn off malloc stack logging because it was not enabled.\n",
            "wandb-core(34472) MallocStackLogging: can't turn off malloc stack logging because it was not enabled.\n",
            "wandb-core(34473) MallocStackLogging: can't turn off malloc stack logging because it was not enabled.\n",
            "wandb-core(34474) MallocStackLogging: can't turn off malloc stack logging because it was not enabled.\n",
            "wandb-core(34483) MallocStackLogging: can't turn off malloc stack logging because it was not enabled.\n",
            "wandb-core(34491) MallocStackLogging: can't turn off malloc stack logging because it was not enabled.\n",
            "wandb-core(34494) MallocStackLogging: can't turn off malloc stack logging because it was not enabled.\n",
            "wandb-core(34495) MallocStackLogging: can't turn off malloc stack logging because it was not enabled.\n",
            "wandb-core(34498) MallocStackLogging: can't turn off malloc stack logging because it was not enabled.\n",
            "wandb-core(34506) MallocStackLogging: can't turn off malloc stack logging because it was not enabled.\n",
            "wandb-core(34514) MallocStackLogging: can't turn off malloc stack logging because it was not enabled.\n",
            "wandb-core(34515) MallocStackLogging: can't turn off malloc stack logging because it was not enabled.\n",
            "wandb-core(34516) MallocStackLogging: can't turn off malloc stack logging because it was not enabled.\n",
            "wandb-core(34517) MallocStackLogging: can't turn off malloc stack logging because it was not enabled.\n",
            "wandb-core(34518) MallocStackLogging: can't turn off malloc stack logging because it was not enabled.\n",
            "wandb-core(34521) MallocStackLogging: can't turn off malloc stack logging because it was not enabled.\n",
            "wandb-core(34522) MallocStackLogging: can't turn off malloc stack logging because it was not enabled.\n",
            "wandb-core(34523) MallocStackLogging: can't turn off malloc stack logging because it was not enabled.\n",
            "wandb-core(34524) MallocStackLogging: can't turn off malloc stack logging because it was not enabled.\n",
            "wandb-core(34525) MallocStackLogging: can't turn off malloc stack logging because it was not enabled.\n",
            "wandb-core(34526) MallocStackLogging: can't turn off malloc stack logging because it was not enabled.\n",
            "wandb-core(34527) MallocStackLogging: can't turn off malloc stack logging because it was not enabled.\n",
            "wandb-core(34528) MallocStackLogging: can't turn off malloc stack logging because it was not enabled.\n",
            "wandb-core(34529) MallocStackLogging: can't turn off malloc stack logging because it was not enabled.\n",
            "wandb-core(34530) MallocStackLogging: can't turn off malloc stack logging because it was not enabled.\n",
            "wandb-core(34531) MallocStackLogging: can't turn off malloc stack logging because it was not enabled.\n",
            "wandb-core(34532) MallocStackLogging: can't turn off malloc stack logging because it was not enabled.\n",
            "wandb-core(34533) MallocStackLogging: can't turn off malloc stack logging because it was not enabled.\n",
            "wandb-core(34534) MallocStackLogging: can't turn off malloc stack logging because it was not enabled.\n",
            "wandb-core(34542) MallocStackLogging: can't turn off malloc stack logging because it was not enabled.\n",
            "wandb-core(34551) MallocStackLogging: can't turn off malloc stack logging because it was not enabled.\n",
            "wandb-core(34552) MallocStackLogging: can't turn off malloc stack logging because it was not enabled.\n",
            "wandb-core(34553) MallocStackLogging: can't turn off malloc stack logging because it was not enabled.\n",
            "wandb-core(34554) MallocStackLogging: can't turn off malloc stack logging because it was not enabled.\n",
            "wandb-core(34563) MallocStackLogging: can't turn off malloc stack logging because it was not enabled.\n",
            "wandb-core(34571) MallocStackLogging: can't turn off malloc stack logging because it was not enabled.\n",
            "wandb-core(34572) MallocStackLogging: can't turn off malloc stack logging because it was not enabled.\n",
            "wandb-core(34573) MallocStackLogging: can't turn off malloc stack logging because it was not enabled.\n",
            "wandb-core(34586) MallocStackLogging: can't turn off malloc stack logging because it was not enabled.\n",
            "wandb-core(34596) MallocStackLogging: can't turn off malloc stack logging because it was not enabled.\n",
            "wandb-core(34597) MallocStackLogging: can't turn off malloc stack logging because it was not enabled.\n",
            "wandb-core(34599) MallocStackLogging: can't turn off malloc stack logging because it was not enabled.\n",
            "wandb-core(34600) MallocStackLogging: can't turn off malloc stack logging because it was not enabled.\n",
            "wandb-core(34601) MallocStackLogging: can't turn off malloc stack logging because it was not enabled.\n",
            "wandb-core(34602) MallocStackLogging: can't turn off malloc stack logging because it was not enabled.\n",
            "wandb-core(34611) MallocStackLogging: can't turn off malloc stack logging because it was not enabled.\n",
            "wandb-core(34612) MallocStackLogging: can't turn off malloc stack logging because it was not enabled.\n",
            "wandb-core(34613) MallocStackLogging: can't turn off malloc stack logging because it was not enabled.\n",
            "wandb-core(34614) MallocStackLogging: can't turn off malloc stack logging because it was not enabled.\n",
            "wandb-core(34622) MallocStackLogging: can't turn off malloc stack logging because it was not enabled.\n",
            "wandb-core(34630) MallocStackLogging: can't turn off malloc stack logging because it was not enabled.\n",
            "wandb-core(34631) MallocStackLogging: can't turn off malloc stack logging because it was not enabled.\n",
            "wandb-core(34632) MallocStackLogging: can't turn off malloc stack logging because it was not enabled.\n",
            "wandb-core(34633) MallocStackLogging: can't turn off malloc stack logging because it was not enabled.\n",
            "wandb-core(34645) MallocStackLogging: can't turn off malloc stack logging because it was not enabled.\n",
            "wandb-core(34653) MallocStackLogging: can't turn off malloc stack logging because it was not enabled.\n",
            "wandb-core(34654) MallocStackLogging: can't turn off malloc stack logging because it was not enabled.\n",
            "wandb-core(34655) MallocStackLogging: can't turn off malloc stack logging because it was not enabled.\n",
            "wandb-core(34656) MallocStackLogging: can't turn off malloc stack logging because it was not enabled.\n",
            "wandb-core(34664) MallocStackLogging: can't turn off malloc stack logging because it was not enabled.\n",
            "wandb-core(34676) MallocStackLogging: can't turn off malloc stack logging because it was not enabled.\n",
            "wandb-core(34684) MallocStackLogging: can't turn off malloc stack logging because it was not enabled.\n",
            "wandb-core(34685) MallocStackLogging: can't turn off malloc stack logging because it was not enabled.\n",
            "wandb-core(34686) MallocStackLogging: can't turn off malloc stack logging because it was not enabled.\n",
            "wandb-core(34706) MallocStackLogging: can't turn off malloc stack logging because it was not enabled.\n",
            "wandb-core(34717) MallocStackLogging: can't turn off malloc stack logging because it was not enabled.\n",
            "wandb-core(34718) MallocStackLogging: can't turn off malloc stack logging because it was not enabled.\n",
            "wandb-core(34719) MallocStackLogging: can't turn off malloc stack logging because it was not enabled.\n",
            "wandb-core(34720) MallocStackLogging: can't turn off malloc stack logging because it was not enabled.\n",
            "wandb-core(34730) MallocStackLogging: can't turn off malloc stack logging because it was not enabled.\n",
            "wandb-core(34743) MallocStackLogging: can't turn off malloc stack logging because it was not enabled.\n",
            "wandb-core(34745) MallocStackLogging: can't turn off malloc stack logging because it was not enabled.\n",
            "wandb-core(34746) MallocStackLogging: can't turn off malloc stack logging because it was not enabled.\n",
            "wandb-core(34747) MallocStackLogging: can't turn off malloc stack logging because it was not enabled.\n",
            "wandb-core(34757) MallocStackLogging: can't turn off malloc stack logging because it was not enabled.\n",
            "wandb-core(34768) MallocStackLogging: can't turn off malloc stack logging because it was not enabled.\n",
            "wandb-core(34769) MallocStackLogging: can't turn off malloc stack logging because it was not enabled.\n",
            "wandb-core(34770) MallocStackLogging: can't turn off malloc stack logging because it was not enabled.\n",
            "wandb-core(34771) MallocStackLogging: can't turn off malloc stack logging because it was not enabled.\n",
            "wandb-core(34779) MallocStackLogging: can't turn off malloc stack logging because it was not enabled.\n",
            "wandb-core(34788) MallocStackLogging: can't turn off malloc stack logging because it was not enabled.\n",
            "wandb-core(34789) MallocStackLogging: can't turn off malloc stack logging because it was not enabled.\n",
            "wandb-core(34790) MallocStackLogging: can't turn off malloc stack logging because it was not enabled.\n",
            "wandb-core(34791) MallocStackLogging: can't turn off malloc stack logging because it was not enabled.\n",
            "wandb-core(34799) MallocStackLogging: can't turn off malloc stack logging because it was not enabled.\n",
            "wandb-core(34821) MallocStackLogging: can't turn off malloc stack logging because it was not enabled.\n",
            "wandb-core(34822) MallocStackLogging: can't turn off malloc stack logging because it was not enabled.\n",
            "wandb-core(34823) MallocStackLogging: can't turn off malloc stack logging because it was not enabled.\n",
            "wandb-core(34824) MallocStackLogging: can't turn off malloc stack logging because it was not enabled.\n",
            "wandb-core(34836) MallocStackLogging: can't turn off malloc stack logging because it was not enabled.\n",
            "wandb-core(34846) MallocStackLogging: can't turn off malloc stack logging because it was not enabled.\n",
            "wandb-core(34847) MallocStackLogging: can't turn off malloc stack logging because it was not enabled.\n",
            "wandb-core(34848) MallocStackLogging: can't turn off malloc stack logging because it was not enabled.\n",
            "wandb-core(34849) MallocStackLogging: can't turn off malloc stack logging because it was not enabled.\n",
            "wandb-core(34857) MallocStackLogging: can't turn off malloc stack logging because it was not enabled.\n",
            "wandb-core(34865) MallocStackLogging: can't turn off malloc stack logging because it was not enabled.\n",
            "wandb-core(34866) MallocStackLogging: can't turn off malloc stack logging because it was not enabled.\n",
            "wandb-core(34867) MallocStackLogging: can't turn off malloc stack logging because it was not enabled.\n",
            "wandb-core(34868) MallocStackLogging: can't turn off malloc stack logging because it was not enabled.\n",
            "wandb-core(34869) MallocStackLogging: can't turn off malloc stack logging because it was not enabled.\n",
            "wandb-core(34884) MallocStackLogging: can't turn off malloc stack logging because it was not enabled.\n",
            "wandb-core(34885) MallocStackLogging: can't turn off malloc stack logging because it was not enabled.\n",
            "wandb-core(34886) MallocStackLogging: can't turn off malloc stack logging because it was not enabled.\n",
            "wandb-core(34887) MallocStackLogging: can't turn off malloc stack logging because it was not enabled.\n",
            "wandb-core(34888) MallocStackLogging: can't turn off malloc stack logging because it was not enabled.\n",
            "wandb-core(34898) MallocStackLogging: can't turn off malloc stack logging because it was not enabled.\n",
            "wandb-core(34899) MallocStackLogging: can't turn off malloc stack logging because it was not enabled.\n",
            "wandb-core(34900) MallocStackLogging: can't turn off malloc stack logging because it was not enabled.\n",
            "wandb-core(34901) MallocStackLogging: can't turn off malloc stack logging because it was not enabled.\n",
            "wandb-core(34902) MallocStackLogging: can't turn off malloc stack logging because it was not enabled.\n",
            "wandb-core(34903) MallocStackLogging: can't turn off malloc stack logging because it was not enabled.\n",
            "wandb-core(34904) MallocStackLogging: can't turn off malloc stack logging because it was not enabled.\n",
            "wandb-core(34905) MallocStackLogging: can't turn off malloc stack logging because it was not enabled.\n",
            "wandb-core(34906) MallocStackLogging: can't turn off malloc stack logging because it was not enabled.\n",
            "wandb-core(34907) MallocStackLogging: can't turn off malloc stack logging because it was not enabled.\n",
            "wandb-core(34908) MallocStackLogging: can't turn off malloc stack logging because it was not enabled.\n",
            "wandb-core(34909) MallocStackLogging: can't turn off malloc stack logging because it was not enabled.\n",
            "wandb-core(34910) MallocStackLogging: can't turn off malloc stack logging because it was not enabled.\n",
            "wandb-core(34911) MallocStackLogging: can't turn off malloc stack logging because it was not enabled.\n",
            "wandb-core(34912) MallocStackLogging: can't turn off malloc stack logging because it was not enabled.\n",
            "wandb-core(34917) MallocStackLogging: can't turn off malloc stack logging because it was not enabled.\n",
            "wandb-core(34918) MallocStackLogging: can't turn off malloc stack logging because it was not enabled.\n",
            "wandb-core(34920) MallocStackLogging: can't turn off malloc stack logging because it was not enabled.\n",
            "wandb-core(34921) MallocStackLogging: can't turn off malloc stack logging because it was not enabled.\n",
            "wandb-core(34924) MallocStackLogging: can't turn off malloc stack logging because it was not enabled.\n",
            "wandb-core(34927) MallocStackLogging: can't turn off malloc stack logging because it was not enabled.\n",
            "wandb-core(34928) MallocStackLogging: can't turn off malloc stack logging because it was not enabled.\n",
            "wandb-core(34929) MallocStackLogging: can't turn off malloc stack logging because it was not enabled.\n",
            "wandb-core(34930) MallocStackLogging: can't turn off malloc stack logging because it was not enabled.\n",
            "wandb-core(34931) MallocStackLogging: can't turn off malloc stack logging because it was not enabled.\n",
            "wandb-core(34932) MallocStackLogging: can't turn off malloc stack logging because it was not enabled.\n",
            "wandb-core(34933) MallocStackLogging: can't turn off malloc stack logging because it was not enabled.\n",
            "wandb-core(34934) MallocStackLogging: can't turn off malloc stack logging because it was not enabled.\n",
            "wandb-core(34935) MallocStackLogging: can't turn off malloc stack logging because it was not enabled.\n",
            "wandb-core(34936) MallocStackLogging: can't turn off malloc stack logging because it was not enabled.\n",
            "wandb-core(34941) MallocStackLogging: can't turn off malloc stack logging because it was not enabled.\n",
            "wandb-core(34942) MallocStackLogging: can't turn off malloc stack logging because it was not enabled.\n",
            "wandb-core(34943) MallocStackLogging: can't turn off malloc stack logging because it was not enabled.\n",
            "wandb-core(34944) MallocStackLogging: can't turn off malloc stack logging because it was not enabled.\n",
            "wandb-core(34945) MallocStackLogging: can't turn off malloc stack logging because it was not enabled.\n",
            "wandb-core(34946) MallocStackLogging: can't turn off malloc stack logging because it was not enabled.\n",
            "wandb-core(34947) MallocStackLogging: can't turn off malloc stack logging because it was not enabled.\n",
            "wandb-core(34948) MallocStackLogging: can't turn off malloc stack logging because it was not enabled.\n",
            "wandb-core(34949) MallocStackLogging: can't turn off malloc stack logging because it was not enabled.\n",
            "wandb-core(34951) MallocStackLogging: can't turn off malloc stack logging because it was not enabled.\n",
            "wandb-core(34953) MallocStackLogging: can't turn off malloc stack logging because it was not enabled.\n",
            "wandb-core(34954) MallocStackLogging: can't turn off malloc stack logging because it was not enabled.\n",
            "wandb-core(34955) MallocStackLogging: can't turn off malloc stack logging because it was not enabled.\n",
            "wandb-core(34956) MallocStackLogging: can't turn off malloc stack logging because it was not enabled.\n",
            "wandb-core(34957) MallocStackLogging: can't turn off malloc stack logging because it was not enabled.\n",
            "wandb-core(34959) MallocStackLogging: can't turn off malloc stack logging because it was not enabled.\n",
            "wandb-core(34960) MallocStackLogging: can't turn off malloc stack logging because it was not enabled.\n",
            "wandb-core(34961) MallocStackLogging: can't turn off malloc stack logging because it was not enabled.\n",
            "wandb-core(34963) MallocStackLogging: can't turn off malloc stack logging because it was not enabled.\n",
            "wandb-core(34964) MallocStackLogging: can't turn off malloc stack logging because it was not enabled.\n",
            "wandb-core(34965) MallocStackLogging: can't turn off malloc stack logging because it was not enabled.\n",
            "wandb-core(34966) MallocStackLogging: can't turn off malloc stack logging because it was not enabled.\n",
            "wandb-core(34967) MallocStackLogging: can't turn off malloc stack logging because it was not enabled.\n",
            "wandb-core(34968) MallocStackLogging: can't turn off malloc stack logging because it was not enabled.\n",
            "wandb-core(34969) MallocStackLogging: can't turn off malloc stack logging because it was not enabled.\n",
            "wandb-core(34970) MallocStackLogging: can't turn off malloc stack logging because it was not enabled.\n",
            "wandb-core(34971) MallocStackLogging: can't turn off malloc stack logging because it was not enabled.\n",
            "wandb-core(34972) MallocStackLogging: can't turn off malloc stack logging because it was not enabled.\n",
            "wandb-core(34973) MallocStackLogging: can't turn off malloc stack logging because it was not enabled.\n",
            "wandb-core(34975) MallocStackLogging: can't turn off malloc stack logging because it was not enabled.\n",
            "wandb-core(34979) MallocStackLogging: can't turn off malloc stack logging because it was not enabled.\n",
            "wandb-core(34980) MallocStackLogging: can't turn off malloc stack logging because it was not enabled.\n",
            "wandb-core(34981) MallocStackLogging: can't turn off malloc stack logging because it was not enabled.\n",
            "wandb-core(34982) MallocStackLogging: can't turn off malloc stack logging because it was not enabled.\n",
            "wandb-core(35007) MallocStackLogging: can't turn off malloc stack logging because it was not enabled.\n",
            "wandb-core(35020) MallocStackLogging: can't turn off malloc stack logging because it was not enabled.\n",
            "wandb-core(35021) MallocStackLogging: can't turn off malloc stack logging because it was not enabled.\n",
            "wandb-core(35022) MallocStackLogging: can't turn off malloc stack logging because it was not enabled.\n",
            "wandb-core(35023) MallocStackLogging: can't turn off malloc stack logging because it was not enabled.\n",
            "wandb-core(35032) MallocStackLogging: can't turn off malloc stack logging because it was not enabled.\n",
            "wandb-core(35038) MallocStackLogging: can't turn off malloc stack logging because it was not enabled.\n",
            "wandb-core(35039) MallocStackLogging: can't turn off malloc stack logging because it was not enabled.\n",
            "wandb-core(35040) MallocStackLogging: can't turn off malloc stack logging because it was not enabled.\n",
            "wandb-core(35042) MallocStackLogging: can't turn off malloc stack logging because it was not enabled.\n",
            "wandb-core(35044) MallocStackLogging: can't turn off malloc stack logging because it was not enabled.\n",
            "wandb-core(35050) MallocStackLogging: can't turn off malloc stack logging because it was not enabled.\n",
            "wandb-core(35052) MallocStackLogging: can't turn off malloc stack logging because it was not enabled.\n",
            "wandb-core(35054) MallocStackLogging: can't turn off malloc stack logging because it was not enabled.\n",
            "wandb-core(35062) MallocStackLogging: can't turn off malloc stack logging because it was not enabled.\n",
            "wandb-core(35065) MallocStackLogging: can't turn off malloc stack logging because it was not enabled.\n",
            "wandb-core(35074) MallocStackLogging: can't turn off malloc stack logging because it was not enabled.\n",
            "wandb-core(35075) MallocStackLogging: can't turn off malloc stack logging because it was not enabled.\n",
            "wandb-core(35076) MallocStackLogging: can't turn off malloc stack logging because it was not enabled.\n",
            "wandb-core(35084) MallocStackLogging: can't turn off malloc stack logging because it was not enabled.\n",
            "wandb-core(35086) MallocStackLogging: can't turn off malloc stack logging because it was not enabled.\n",
            "wandb-core(35095) MallocStackLogging: can't turn off malloc stack logging because it was not enabled.\n",
            "wandb-core(35096) MallocStackLogging: can't turn off malloc stack logging because it was not enabled.\n",
            "wandb-core(35097) MallocStackLogging: can't turn off malloc stack logging because it was not enabled.\n",
            "wandb-core(35105) MallocStackLogging: can't turn off malloc stack logging because it was not enabled.\n",
            "wandb-core(35106) MallocStackLogging: can't turn off malloc stack logging because it was not enabled.\n",
            "wandb-core(35117) MallocStackLogging: can't turn off malloc stack logging because it was not enabled.\n",
            "wandb-core(35118) MallocStackLogging: can't turn off malloc stack logging because it was not enabled.\n",
            "wandb-core(35119) MallocStackLogging: can't turn off malloc stack logging because it was not enabled.\n",
            "wandb-core(35127) MallocStackLogging: can't turn off malloc stack logging because it was not enabled.\n",
            "wandb-core(35128) MallocStackLogging: can't turn off malloc stack logging because it was not enabled.\n",
            "wandb-core(35141) MallocStackLogging: can't turn off malloc stack logging because it was not enabled.\n",
            "wandb-core(35142) MallocStackLogging: can't turn off malloc stack logging because it was not enabled.\n",
            "wandb-core(35144) MallocStackLogging: can't turn off malloc stack logging because it was not enabled.\n",
            "wandb-core(35163) MallocStackLogging: can't turn off malloc stack logging because it was not enabled.\n",
            "wandb-core(35166) MallocStackLogging: can't turn off malloc stack logging because it was not enabled.\n",
            "wandb-core(35181) MallocStackLogging: can't turn off malloc stack logging because it was not enabled.\n",
            "wandb-core(35183) MallocStackLogging: can't turn off malloc stack logging because it was not enabled.\n",
            "wandb-core(35184) MallocStackLogging: can't turn off malloc stack logging because it was not enabled.\n",
            "wandb-core(35192) MallocStackLogging: can't turn off malloc stack logging because it was not enabled.\n",
            "wandb-core(35197) MallocStackLogging: can't turn off malloc stack logging because it was not enabled.\n",
            "wandb-core(35248) MallocStackLogging: can't turn off malloc stack logging because it was not enabled.\n",
            "wandb-core(35249) MallocStackLogging: can't turn off malloc stack logging because it was not enabled.\n",
            "wandb-core(35250) MallocStackLogging: can't turn off malloc stack logging because it was not enabled.\n",
            "wandb-core(35258) MallocStackLogging: can't turn off malloc stack logging because it was not enabled.\n",
            "wandb-core(35261) MallocStackLogging: can't turn off malloc stack logging because it was not enabled.\n",
            "wandb-core(35299) MallocStackLogging: can't turn off malloc stack logging because it was not enabled.\n",
            "wandb-core(35300) MallocStackLogging: can't turn off malloc stack logging because it was not enabled.\n",
            "wandb-core(35301) MallocStackLogging: can't turn off malloc stack logging because it was not enabled.\n",
            "wandb-core(35302) MallocStackLogging: can't turn off malloc stack logging because it was not enabled.\n",
            "wandb-core(35310) MallocStackLogging: can't turn off malloc stack logging because it was not enabled.\n",
            "wandb-core(35332) MallocStackLogging: can't turn off malloc stack logging because it was not enabled.\n",
            "wandb-core(35333) MallocStackLogging: can't turn off malloc stack logging because it was not enabled.\n",
            "wandb-core(35334) MallocStackLogging: can't turn off malloc stack logging because it was not enabled.\n",
            "wandb-core(35335) MallocStackLogging: can't turn off malloc stack logging because it was not enabled.\n",
            "wandb-core(35345) MallocStackLogging: can't turn off malloc stack logging because it was not enabled.\n",
            "wandb-core(35357) MallocStackLogging: can't turn off malloc stack logging because it was not enabled.\n",
            "wandb-core(35358) MallocStackLogging: can't turn off malloc stack logging because it was not enabled.\n",
            "wandb-core(35359) MallocStackLogging: can't turn off malloc stack logging because it was not enabled.\n",
            "wandb-core(35361) MallocStackLogging: can't turn off malloc stack logging because it was not enabled.\n",
            "wandb-core(35371) MallocStackLogging: can't turn off malloc stack logging because it was not enabled.\n",
            "wandb-core(35381) MallocStackLogging: can't turn off malloc stack logging because it was not enabled.\n",
            "wandb-core(35387) MallocStackLogging: can't turn off malloc stack logging because it was not enabled.\n",
            "wandb-core(35389) MallocStackLogging: can't turn off malloc stack logging because it was not enabled.\n",
            "wandb-core(35394) MallocStackLogging: can't turn off malloc stack logging because it was not enabled.\n",
            "wandb-core(35425) MallocStackLogging: can't turn off malloc stack logging because it was not enabled.\n",
            "wandb-core(35444) MallocStackLogging: can't turn off malloc stack logging because it was not enabled.\n",
            "wandb-core(35445) MallocStackLogging: can't turn off malloc stack logging because it was not enabled.\n",
            "wandb-core(35446) MallocStackLogging: can't turn off malloc stack logging because it was not enabled.\n",
            "wandb-core(35447) MallocStackLogging: can't turn off malloc stack logging because it was not enabled.\n",
            "wandb-core(35458) MallocStackLogging: can't turn off malloc stack logging because it was not enabled.\n",
            "wandb-core(35478) MallocStackLogging: can't turn off malloc stack logging because it was not enabled.\n",
            "wandb-core(35479) MallocStackLogging: can't turn off malloc stack logging because it was not enabled.\n",
            "wandb-core(35480) MallocStackLogging: can't turn off malloc stack logging because it was not enabled.\n",
            "wandb-core(35481) MallocStackLogging: can't turn off malloc stack logging because it was not enabled.\n",
            "wandb-core(35484) MallocStackLogging: can't turn off malloc stack logging because it was not enabled.\n",
            "wandb-core(35486) MallocStackLogging: can't turn off malloc stack logging because it was not enabled.\n",
            "wandb-core(35487) MallocStackLogging: can't turn off malloc stack logging because it was not enabled.\n",
            "wandb-core(35488) MallocStackLogging: can't turn off malloc stack logging because it was not enabled.\n",
            "wandb-core(35489) MallocStackLogging: can't turn off malloc stack logging because it was not enabled.\n",
            "wandb-core(35490) MallocStackLogging: can't turn off malloc stack logging because it was not enabled.\n",
            "wandb-core(35501) MallocStackLogging: can't turn off malloc stack logging because it was not enabled.\n",
            "wandb-core(35503) MallocStackLogging: can't turn off malloc stack logging because it was not enabled.\n",
            "wandb-core(35504) MallocStackLogging: can't turn off malloc stack logging because it was not enabled.\n",
            "wandb-core(35506) MallocStackLogging: can't turn off malloc stack logging because it was not enabled.\n",
            "wandb-core(35515) MallocStackLogging: can't turn off malloc stack logging because it was not enabled.\n",
            "wandb-core(35550) MallocStackLogging: can't turn off malloc stack logging because it was not enabled.\n",
            "wandb-core(35557) MallocStackLogging: can't turn off malloc stack logging because it was not enabled.\n",
            "wandb-core(35558) MallocStackLogging: can't turn off malloc stack logging because it was not enabled.\n",
            "wandb-core(35559) MallocStackLogging: can't turn off malloc stack logging because it was not enabled.\n",
            "wandb-core(35589) MallocStackLogging: can't turn off malloc stack logging because it was not enabled.\n",
            "wandb-core(35608) MallocStackLogging: can't turn off malloc stack logging because it was not enabled.\n",
            "wandb-core(35609) MallocStackLogging: can't turn off malloc stack logging because it was not enabled.\n",
            "wandb-core(35610) MallocStackLogging: can't turn off malloc stack logging because it was not enabled.\n",
            "wandb-core(35611) MallocStackLogging: can't turn off malloc stack logging because it was not enabled.\n",
            "wandb-core(35621) MallocStackLogging: can't turn off malloc stack logging because it was not enabled.\n",
            "wandb-core(35634) MallocStackLogging: can't turn off malloc stack logging because it was not enabled.\n",
            "wandb-core(35635) MallocStackLogging: can't turn off malloc stack logging because it was not enabled.\n",
            "wandb-core(35636) MallocStackLogging: can't turn off malloc stack logging because it was not enabled.\n",
            "wandb-core(35637) MallocStackLogging: can't turn off malloc stack logging because it was not enabled.\n"
          ]
        }
      ],
      "source": [
        "! python resnet.py -data_dir '../chest_xray' -n_epochs 1 -img_size 512"
      ]
    },
    {
      "cell_type": "code",
      "execution_count": null,
      "metadata": {},
      "outputs": [],
      "source": [
        "! python vit.py -data_dir {new_dataset} -n_epochs 1 -batch_size 16"
      ]
    },
    {
      "cell_type": "code",
      "execution_count": 34,
      "metadata": {},
      "outputs": [
        {
          "name": "stdout",
          "output_type": "stream",
          "text": [
            "/Users/veramazeeva/Library/CloudStorage/OneDrive-Personal/Carnegie Mellon/CompMed/project/code/gradcam.py:117: FutureWarning: You are using `torch.load` with `weights_only=False` (the current default value), which uses the default pickle module implicitly. It is possible to construct malicious pickle data which will execute arbitrary code during unpickling (See https://github.com/pytorch/pytorch/blob/main/SECURITY.md#untrusted-models for more details). In a future release, the default value for `weights_only` will be flipped to `True`. This limits the functions that could be executed during unpickling. Arbitrary objects will no longer be allowed to be loaded via this mode unless they are explicitly allowlisted by the user via `torch.serialization.add_safe_globals`. We recommend you start setting `weights_only=True` for any use case where you don't have full control of the loaded file. Please open an issue on GitHub for any issues related to this experimental feature.\n",
            "  model.load_state_dict(torch.load(args.model_path, map_location=DEVICE))\n",
            "Input Image Shape: torch.Size([1, 1, 256, 256])\n",
            "Heatmap shape: (256, 256, 3)\n",
            "Image shape: (256, 256, 3)\n",
            "Saved Grad-CAM overlay to gradcam/gradcam_0.jpg\n",
            "Figure(640x480)\n"
          ]
        }
      ],
      "source": [
        "! python gradcam.py -model_path '../models/SimpleCNN_lr0.0001_img512_b16_finetune.pth' -model_type SimpleCNN -img_path '../chest_xray/test/NORMAL/IM-0049-0001.jpeg' -img_class 0"
      ]
    },
    {
      "cell_type": "code",
      "execution_count": 35,
      "metadata": {},
      "outputs": [
        {
          "name": "stdout",
          "output_type": "stream",
          "text": [
            "/Users/veramazeeva/Library/CloudStorage/OneDrive-Personal/Carnegie Mellon/CompMed/project/code/gradcam.py:117: FutureWarning: You are using `torch.load` with `weights_only=False` (the current default value), which uses the default pickle module implicitly. It is possible to construct malicious pickle data which will execute arbitrary code during unpickling (See https://github.com/pytorch/pytorch/blob/main/SECURITY.md#untrusted-models for more details). In a future release, the default value for `weights_only` will be flipped to `True`. This limits the functions that could be executed during unpickling. Arbitrary objects will no longer be allowed to be loaded via this mode unless they are explicitly allowlisted by the user via `torch.serialization.add_safe_globals`. We recommend you start setting `weights_only=True` for any use case where you don't have full control of the loaded file. Please open an issue on GitHub for any issues related to this experimental feature.\n",
            "  model.load_state_dict(torch.load(args.model_path, map_location=DEVICE))\n",
            "Input Image Shape: torch.Size([1, 1, 256, 256])\n",
            "Heatmap shape: (256, 256, 3)\n",
            "Image shape: (256, 256, 3)\n",
            "Saved Grad-CAM overlay to gradcam/gradcam_1.jpg\n",
            "Figure(640x480)\n"
          ]
        }
      ],
      "source": [
        "! python gradcam.py -model_path '../models/SimpleCNN_lr0.0001_img512_b16_finetune.pth' -model_type SimpleCNN -img_path '../chest_xray/test/PNEUMONIA/person21_bacteria_73.jpeg' -img_class 1"
      ]
    },
    {
      "cell_type": "code",
      "execution_count": 48,
      "metadata": {},
      "outputs": [],
      "source": [
        "DEVICE = \"cpu\""
      ]
    },
    {
      "cell_type": "code",
      "execution_count": 49,
      "metadata": {},
      "outputs": [],
      "source": [
        "import numpy as np\n",
        "import torch\n",
        "from tqdm import tqdm\n",
        "\n",
        "def evaluate(model, dataloader, dataname, criterion, confusion_matrix=False):\n",
        "    batch_size = dataloader.batch_size\n",
        "\n",
        "    model.eval()\n",
        "    batch_bar = tqdm(total=len(dataloader), dynamic_ncols=True, position=0, leave=False, desc=f'Evaluate on {dataname} dataset')\n",
        "\n",
        "    total_loss, num_correct = 0, 0\n",
        "\n",
        "    TP, TN, FP, FN = 0, 0, 0, 0\n",
        "\n",
        "    with torch.no_grad():\n",
        "        for idx, (images, labels) in enumerate(dataloader):\n",
        "\n",
        "            images, labels = images.to(DEVICE), labels.to(DEVICE)\n",
        "\n",
        "            outputs = model(images)\n",
        "            loss = criterion(outputs, labels)\n",
        "\n",
        "            preds = torch.argmax(outputs, dim=1)\n",
        "\n",
        "            num_correct += int((preds==labels).sum())\n",
        "            total_loss += float(loss.item())\n",
        "\n",
        "            for p, l in zip(preds, labels):\n",
        "                if p == 1 and l == 1:\n",
        "                    TP += 1\n",
        "                elif p == 0 and l == 0:\n",
        "                    TN += 1\n",
        "                elif p == 1 and l == 0:\n",
        "                    FP += 1\n",
        "                elif p == 0 and l == 1:\n",
        "                    FN += 1\n",
        "\n",
        "            batch_bar.set_postfix(\n",
        "                acc= \"{:.04f}%\".format(num_correct/(batch_size*(idx+1))*100),\n",
        "                loss= \"{:.04f}\".format(float(total_loss/(idx+1)))\n",
        "            )\n",
        "\n",
        "            batch_bar.update()\n",
        "\n",
        "    batch_bar.close()\n",
        "\n",
        "    acc = num_correct/(batch_size*(idx+1))*100\n",
        "    avg_loss = total_loss/(idx+1)\n",
        "\n",
        "    sensitivity, specificity =  TP / (TP + FN), TN / (TN + FP)\n",
        "\n",
        "    if not confusion_matrix:\n",
        "        return avg_loss, acc, sensitivity, specificity\n",
        "    \n",
        "    else:\n",
        "        cm = np.array([[TP, FP], [FN, TN]])\n",
        "        return avg_loss, acc, sensitivity, specificity, cm"
      ]
    },
    {
      "cell_type": "code",
      "execution_count": 58,
      "metadata": {},
      "outputs": [],
      "source": [
        "import torchvision\n",
        "from torchvision import transforms\n",
        "from torch.utils.data import DataLoader, WeightedRandomSampler\n",
        "from torchvision import datasets\n",
        "\n",
        "\n",
        "transforms_common = transforms.Compose([\n",
        "    transforms.Grayscale(num_output_channels=1),  \n",
        "    transforms.Resize((1024, 1024)),\n",
        "    transforms.ToTensor(),\n",
        "    transforms.Normalize(mean=(0.5,), std=(0.5,)),  \n",
        "])\n",
        "transforms_train = [transforms.RandomHorizontalFlip(),\n",
        "                transforms.RandomRotation(15),\n",
        "                transforms.ColorJitter(brightness=0.2, contrast=0.2, saturation=0.2),\n",
        "                transforms.Resize((512,512)),\n",
        "                transforms.Grayscale(num_output_channels=1),  # Convert to grayscale (1 channel)\n",
        "                transforms.ToTensor()]\n",
        "\n",
        "transforms_train.append(transforms.Normalize(mean=[0.5519], std=[0.2131]))\n",
        "\n",
        "class_to_label = {\"NORMAL\": 0, \"PNEUMONIA\": 1}\n",
        "assert(len(class_to_label) == 2)\n",
        "dataset = datasets.ImageFolder('../chest_xray/test', transform=transforms.Compose(transforms_train))\n",
        "dataset.class_to_idx = class_to_label\n",
        "\n",
        "\n",
        "dataloader = DataLoader(dataset=dataset, batch_size=32, shuffle=True, num_workers=2, pin_memory=True)"
      ]
    },
    {
      "cell_type": "code",
      "execution_count": 40,
      "metadata": {},
      "outputs": [],
      "source": [
        "from cnn import SimpleCNN\n",
        "from torch import nn"
      ]
    },
    {
      "cell_type": "code",
      "execution_count": 59,
      "metadata": {},
      "outputs": [
        {
          "name": "stderr",
          "output_type": "stream",
          "text": [
            "/var/folders/gb/6nj_ltrj4xz37dn5k89d40n00000gn/T/ipykernel_33002/957929743.py:2: FutureWarning: You are using `torch.load` with `weights_only=False` (the current default value), which uses the default pickle module implicitly. It is possible to construct malicious pickle data which will execute arbitrary code during unpickling (See https://github.com/pytorch/pytorch/blob/main/SECURITY.md#untrusted-models for more details). In a future release, the default value for `weights_only` will be flipped to `True`. This limits the functions that could be executed during unpickling. Arbitrary objects will no longer be allowed to be loaded via this mode unless they are explicitly allowlisted by the user via `torch.serialization.add_safe_globals`. We recommend you start setting `weights_only=True` for any use case where you don't have full control of the loaded file. Please open an issue on GitHub for any issues related to this experimental feature.\n",
            "  model.load_state_dict(torch.load('../models/SimpleCNN_lr0.0001_img512_b16_finetune.pth', map_location='cpu'))\n",
            "                                                                                                     \r"
          ]
        },
        {
          "data": {
            "text/plain": [
              "(0.1428833143099358, 91.11842105263158, 0.9425837320574163, 0.9580838323353293)"
            ]
          },
          "execution_count": 59,
          "metadata": {},
          "output_type": "execute_result"
        }
      ],
      "source": [
        "model = SimpleCNN()\n",
        "model.load_state_dict(torch.load('../models/SimpleCNN_lr0.0001_img512_b16_finetune.pth', map_location='cpu'))\n",
        "criterion = nn.CrossEntropyLoss()\n",
        "\n",
        "evaluate(model, dataloader, 'train', criterion)"
      ]
    },
    {
      "cell_type": "code",
      "execution_count": 36,
      "metadata": {},
      "outputs": [
        {
          "data": {
            "image/jpeg": "[encoded data removed]",
            "text/plain": [
              "<IPython.core.display.Image object>"
            ]
          },
          "metadata": {},
          "output_type": "display_data"
        },
        {
          "data": {
            "image/jpeg": "[encoded data removed]",
            "text/plain": [
              "<IPython.core.display.Image object>"
            ]
          },
          "metadata": {},
          "output_type": "display_data"
        },
        {
          "data": {
            "text/plain": [
              "(None, None)"
            ]
          },
          "execution_count": 36,
          "metadata": {},
          "output_type": "execute_result"
        }
      ],
      "source": [
        "from IPython.display import Image, display\n",
        "display(Image(\"gradcam/gradcam_0.jpg\")), display(Image(\"gradcam/gradcam_1.jpg\"))"
      ]
    },
    {
      "cell_type": "code",
      "execution_count": 2,
      "metadata": {},
      "outputs": [],
      "source": [
        "from cnn import SimpleCNN \n",
        "import torch\n",
        "import torchvision.transforms as T\n",
        "import numpy as np\n",
        "import cv2\n",
        "from PIL import Image"
      ]
    },
    {
      "cell_type": "code",
      "execution_count": 7,
      "metadata": {},
      "outputs": [
        {
          "name": "stderr",
          "output_type": "stream",
          "text": [
            "/var/folders/gb/6nj_ltrj4xz37dn5k89d40n00000gn/T/ipykernel_33002/722778332.py:9: FutureWarning: You are using `torch.load` with `weights_only=False` (the current default value), which uses the default pickle module implicitly. It is possible to construct malicious pickle data which will execute arbitrary code during unpickling (See https://github.com/pytorch/pytorch/blob/main/SECURITY.md#untrusted-models for more details). In a future release, the default value for `weights_only` will be flipped to `True`. This limits the functions that could be executed during unpickling. Arbitrary objects will no longer be allowed to be loaded via this mode unless they are explicitly allowlisted by the user via `torch.serialization.add_safe_globals`. We recommend you start setting `weights_only=True` for any use case where you don't have full control of the loaded file. Please open an issue on GitHub for any issues related to this experimental feature.\n",
            "  model.load_state_dict(torch.load('../models/SimpleCNN_lr3e-05_img512_b16.pth', map_location='mps'))\n"
          ]
        }
      ],
      "source": [
        "from pytorch_grad_cam import GradCAM, HiResCAM, ScoreCAM, GradCAMPlusPlus, AblationCAM, XGradCAM, EigenCAM, FullGrad\n",
        "from pytorch_grad_cam.utils.model_targets import ClassifierOutputTarget\n",
        "from pytorch_grad_cam.utils.image import show_cam_on_image\n",
        "from torchvision.models import resnet50\n",
        "\n",
        "from resnet import MyResNET\n",
        "\n",
        "model = SimpleCNN()\n",
        "model.load_state_dict(torch.load('../models/SimpleCNN_lr3e-05_img512_b16.pth', map_location='mps'))\n",
        "target_layers = [model.conv_stack[-3]]\n",
        "\n",
        "image_transforms = T.Compose([T.RandomHorizontalFlip(),\n",
        "                T.RandomRotation(15),\n",
        "                T.ColorJitter(brightness=0.2, contrast=0.2, saturation=0.2),\n",
        "                T.Resize((512,512)),\n",
        "                T.Grayscale(num_output_channels=1),  # Convert to grayscale (1 channel)\n",
        "                T.ToTensor()])\n",
        "\n",
        "\n",
        "\n",
        "rgb_img = cv2.imread('../chest_xray/test/PNEUMONIA/person9_bacteria_40.jpeg', 1)[:, :, ::-1]\n",
        "rgb_img = np.float32(rgb_img) / 255\n",
        "image = Image.open('../chest_xray/test/PNEUMONIA/person9_bacteria_40.jpeg').convert(\"L\")  # Ensure grayscale\n",
        "input_tensor = image_transforms(image).unsqueeze(0)  # Add batch dimension\n",
        "\n",
        "\n",
        "\n",
        "# We have to specify the target we want to generate the CAM for.\n",
        "targets = [ClassifierOutputTarget(0)]\n",
        "\n",
        "# Construct the CAM object once, and then re-use it on many images.\n",
        "with GradCAM(model=model, target_layers=target_layers) as cam:\n",
        "  # You can also pass aug_smooth=True and eigen_smooth=True, to apply smoothing.\n",
        "  grayscale_cam = cam(input_tensor=input_tensor, targets=targets)\n",
        "  # In this example grayscale_cam has only one image in the batch:\n",
        "  grayscale_cam = grayscale_cam[0, :]\n",
        "  visualization = show_cam_on_image(rgb_img, grayscale_cam, use_rgb=True)\n",
        "  # You can also get the model outputs without having to redo inference\n",
        "  model_outputs = cam.outputs"
      ]
    },
    {
      "cell_type": "code",
      "execution_count": 8,
      "metadata": {},
      "outputs": [
        {
          "name": "stderr",
          "output_type": "stream",
          "text": [
            "/var/folders/gb/6nj_ltrj4xz37dn5k89d40n00000gn/T/ipykernel_33002/2432447706.py:1: UserWarning: Implicit dimension choice for softmax has been deprecated. Change the call to include dim=X as an argument.\n",
            "  torch.nn.functional.softmax(model_outputs) # normal\n"
          ]
        },
        {
          "data": {
            "text/plain": [
              "tensor([[2.5014e-09, 1.0000e+00]], grad_fn=<SoftmaxBackward0>)"
            ]
          },
          "execution_count": 8,
          "metadata": {},
          "output_type": "execute_result"
        }
      ],
      "source": [
        "torch.nn.functional.softmax(model_outputs) "
      ]
    },
    {
      "cell_type": "code",
      "execution_count": 25,
      "metadata": {},
      "outputs": [
        {
          "name": "stderr",
          "output_type": "stream",
          "text": [
            "/var/folders/gb/6nj_ltrj4xz37dn5k89d40n00000gn/T/ipykernel_33002/1833528600.py:2: FutureWarning: You are using `torch.load` with `weights_only=False` (the current default value), which uses the default pickle module implicitly. It is possible to construct malicious pickle data which will execute arbitrary code during unpickling (See https://github.com/pytorch/pytorch/blob/main/SECURITY.md#untrusted-models for more details). In a future release, the default value for `weights_only` will be flipped to `True`. This limits the functions that could be executed during unpickling. Arbitrary objects will no longer be allowed to be loaded via this mode unless they are explicitly allowlisted by the user via `torch.serialization.add_safe_globals`. We recommend you start setting `weights_only=True` for any use case where you don't have full control of the loaded file. Please open an issue on GitHub for any issues related to this experimental feature.\n",
            "  model.load_state_dict(torch.load('../models/ResNET_lr3e-05_img256_b32.pth', map_location='mps'))\n"
          ]
        },
        {
          "data": {
            "text/plain": [
              "tensor([[ 5.0175, -5.1121]], grad_fn=<AddmmBackward0>)"
            ]
          },
          "execution_count": 25,
          "metadata": {},
          "output_type": "execute_result"
        }
      ],
      "source": [
        "model = MyResNET()\n",
        "model.load_state_dict(torch.load('../models/ResNET_lr3e-05_img256_b32.pth', map_location='mps'))\n",
        "\n",
        "image_transforms = T.Compose([T.RandomHorizontalFlip(),\n",
        "                T.RandomRotation(15),\n",
        "                T.ColorJitter(brightness=0.2, contrast=0.2, saturation=0.2),\n",
        "                T.Resize((256,256)),\n",
        "                T.Grayscale(num_output_channels=1),  # Convert to grayscale (1 channel)\n",
        "                T.ToTensor()])\n",
        "\n",
        "#image = Image.open('../chest_xray/test/PNEUMONIA/person9_bacteria_40.jpeg').convert(\"L\")  # Ensure grayscale\n",
        "image = Image.open('../chest_xray/test/NORMAL/IM-0049-0001.jpeg').convert(\"L\")  # Ensure grayscale\n",
        "\n",
        "input_tensor = image_transforms(image).unsqueeze(0)  # Add batch dimension\n",
        "\n",
        "model.eval()\n",
        "output = model(input_tensor)\n",
        "output"
      ]
    }
  ],
  "metadata": {
    "accelerator": "GPU",
    "colab": {
      "gpuType": "T4",
      "provenance": []
    },
    "kernelspec": {
      "display_name": "Python 3",
      "name": "python3"
    },
    "language_info": {
      "codemirror_mode": {
        "name": "ipython",
        "version": 3
      },
      "file_extension": ".py",
      "mimetype": "text/x-python",
      "name": "python",
      "nbconvert_exporter": "python",
      "pygments_lexer": "ipython3",
      "version": "3.11.10"
    }
  },
  "nbformat": 4,
  "nbformat_minor": 0
}
