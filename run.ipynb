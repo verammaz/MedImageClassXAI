{
 "cells": [
  {
   "cell_type": "code",
   "execution_count": 2,
   "metadata": {},
   "outputs": [
    {
     "name": "stderr",
     "output_type": "stream",
     "text": [
      "/opt/anaconda3/envs/ml_ai/lib/python3.11/site-packages/tqdm/auto.py:21: TqdmWarning: IProgress not found. Please update jupyter and ipywidgets. See https://ipywidgets.readthedocs.io/en/stable/user_install.html\n",
      "  from .autonotebook import tqdm as notebook_tqdm\n"
     ]
    }
   ],
   "source": [
    "import kagglehub\n",
    "import os"
   ]
  },
  {
   "cell_type": "code",
   "execution_count": 3,
   "metadata": {},
   "outputs": [],
   "source": [
    "# Download latest version\n",
    "data_path = kagglehub.dataset_download(\"paultimothymooney/chest-xray-pneumonia\")\n",
    "data_path = os.path.join(data_path, 'chest_xray')"
   ]
  },
  {
   "cell_type": "code",
   "execution_count": 8,
   "metadata": {},
   "outputs": [
    {
     "name": "stdout",
     "output_type": "stream",
     "text": [
      "Number of classes    :  2\n",
      "Shape of image       :  torch.Size([1, 256, 256])\n",
      "Train batches        :  652\n",
      "No. of train images  :  5216\n",
      "No. of valid images  :  16\n",
      "Labels               :  {'NORMAL': 0, 'PNEUMONIA': 1}\n",
      "----------------------------------------------------------------\n",
      "        Layer (type)               Output Shape         Param #\n",
      "================================================================\n",
      "            Conv2d-1          [-1, 128, 64, 64]           2,176\n",
      "         LayerNorm-2          [-1, 128, 64, 64]       1,048,576\n",
      "            Conv2d-3          [-1, 128, 64, 64]         802,944\n",
      "         LayerNorm-4          [-1, 128, 64, 64]       1,048,576\n",
      "            Conv2d-5          [-1, 256, 64, 64]          33,024\n",
      "              GELU-6          [-1, 256, 64, 64]               0\n",
      "            Conv2d-7          [-1, 128, 64, 64]          32,896\n",
      "         AvgPool2d-8          [-1, 128, 32, 32]               0\n",
      "           Flatten-9               [-1, 131072]               0\n",
      "           Linear-10                    [-1, 2]         262,146\n",
      "================================================================\n",
      "Total params: 3,230,338\n",
      "Trainable params: 3,230,338\n",
      "Non-trainable params: 0\n",
      "----------------------------------------------------------------\n",
      "Input size (MB): 0.25\n",
      "Forward/backward pass size (MB): 38.00\n",
      "Params size (MB): 12.32\n",
      "Estimated Total Size (MB): 50.57\n",
      "----------------------------------------------------------------\n",
      "                                                                                \n",
      "Epoch 1/3: \n",
      "Train Acc 26.2078%\t Train Loss nan\t Learning Rate 0.0100\n",
      "Val Acc 50.0000%\t Val Loss nan                                                  \n",
      "Sensitivity 0.0000%\t Specificity 100.0000%\n",
      "Traceback (most recent call last):\n",
      "  File \"/Users/veramazeeva/Library/CloudStorage/OneDrive-Personal/Carnegie Mellon/CompMed/project/code/cnn.py\", line 353, in <module>\n",
      "    main()\n",
      "  File \"/Users/veramazeeva/Library/CloudStorage/OneDrive-Personal/Carnegie Mellon/CompMed/project/code/cnn.py\", line 344, in main\n",
      "    plot_training(CONFIG, train_loss_list, val_loss_list, train_acc_list, val_acc_list)\n",
      "  File \"/Users/veramazeeva/Library/CloudStorage/OneDrive-Personal/Carnegie Mellon/CompMed/project/code/cnn.py\", line 209, in plot_training\n",
      "    plt.plot(epochs, train_loss_list, label='Training Loss')\n",
      "  File \"/opt/anaconda3/envs/ml_ai/lib/python3.11/site-packages/matplotlib/pyplot.py\", line 3794, in plot\n",
      "    return gca().plot(\n",
      "           ^^^^^^^^^^^\n",
      "  File \"/opt/anaconda3/envs/ml_ai/lib/python3.11/site-packages/matplotlib/axes/_axes.py\", line 1779, in plot\n",
      "    lines = [*self._get_lines(self, *args, data=data, **kwargs)]\n",
      "            ^^^^^^^^^^^^^^^^^^^^^^^^^^^^^^^^^^^^^^^^^^^^^^^^^^^^\n",
      "  File \"/opt/anaconda3/envs/ml_ai/lib/python3.11/site-packages/matplotlib/axes/_base.py\", line 296, in __call__\n",
      "    yield from self._plot_args(\n",
      "               ^^^^^^^^^^^^^^^^\n",
      "  File \"/opt/anaconda3/envs/ml_ai/lib/python3.11/site-packages/matplotlib/axes/_base.py\", line 486, in _plot_args\n",
      "    raise ValueError(f\"x and y must have same first dimension, but \"\n",
      "ValueError: x and y must have same first dimension, but have shapes (3,) and (1,)\n"
     ]
    }
   ],
   "source": [
    "! python cnn.py -data_dir {data_path} -v"
   ]
  }
 ],
 "metadata": {
  "kernelspec": {
   "display_name": "base",
   "language": "python",
   "name": "python3"
  },
  "language_info": {
   "codemirror_mode": {
    "name": "ipython",
    "version": 3
   },
   "file_extension": ".py",
   "mimetype": "text/x-python",
   "name": "python",
   "nbconvert_exporter": "python",
   "pygments_lexer": "ipython3",
   "version": "3.11.10"
  }
 },
 "nbformat": 4,
 "nbformat_minor": 2
}
