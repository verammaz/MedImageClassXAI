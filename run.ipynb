{
  "cells": [
    {
      "cell_type": "code",
      "execution_count": 1,
      "metadata": {
        "id": "YD9ni2GZOFxM"
      },
      "outputs": [],
      "source": [
        "import kagglehub\n",
        "import os"
      ]
    },
    {
      "cell_type": "code",
      "source": [
        "from google.colab import drive\n",
        "drive.mount('/content/drive')"
      ],
      "metadata": {
        "colab": {
          "base_uri": "https://localhost:8080/"
        },
        "id": "JPemQgvhPLXg",
        "outputId": "9bf7adb0-e2fb-4ab2-fdae-8878f9dc72fe"
      },
      "execution_count": 2,
      "outputs": [
        {
          "output_type": "stream",
          "name": "stdout",
          "text": [
            "Mounted at /content/drive\n"
          ]
        }
      ]
    },
    {
      "cell_type": "code",
      "execution_count": 4,
      "metadata": {
        "colab": {
          "base_uri": "https://localhost:8080/"
        },
        "id": "4JSRQLbBOFxO",
        "outputId": "1b55ef9b-7924-46a8-8e3b-6fd7e3570fb8"
      },
      "outputs": [
        {
          "output_type": "stream",
          "name": "stdout",
          "text": [
            "Downloading from https://www.kaggle.com/api/v1/datasets/download/paultimothymooney/chest-xray-pneumonia?dataset_version_number=2...\n"
          ]
        },
        {
          "output_type": "stream",
          "name": "stderr",
          "text": [
            "100%|██████████| 2.29G/2.29G [01:45<00:00, 23.5MB/s]"
          ]
        },
        {
          "output_type": "stream",
          "name": "stdout",
          "text": [
            "Extracting files...\n"
          ]
        },
        {
          "output_type": "stream",
          "name": "stderr",
          "text": [
            "\n"
          ]
        }
      ],
      "source": [
        "# Download latest version\n",
        "data_path = kagglehub.dataset_download(\"paultimothymooney/chest-xray-pneumonia\")\n",
        "data_path = os.path.join(data_path, 'chest_xray')"
      ]
    },
    {
      "cell_type": "code",
      "source": [
        "import wandb\n",
        "wandb.login()"
      ],
      "metadata": {
        "colab": {
          "base_uri": "https://localhost:8080/"
        },
        "id": "GAr1fUpiP3M6",
        "outputId": "e5f582e3-6b8d-4066-bca4-b019c2c22bcd"
      },
      "execution_count": 10,
      "outputs": [
        {
          "output_type": "stream",
          "name": "stderr",
          "text": [
            "\u001b[34m\u001b[1mwandb\u001b[0m: Currently logged in as: \u001b[33mvmazeeva\u001b[0m (\u001b[33mvmazeeva-carnegie-mellon-university\u001b[0m). Use \u001b[1m`wandb login --relogin`\u001b[0m to force relogin\n"
          ]
        },
        {
          "output_type": "execute_result",
          "data": {
            "text/plain": [
              "True"
            ]
          },
          "metadata": {},
          "execution_count": 10
        }
      ]
    },
    {
      "cell_type": "code",
      "execution_count": 6,
      "metadata": {
        "id": "-aOSKycOOFxO"
      },
      "outputs": [],
      "source": [
        "os.environ[\"WANDB_SILENT\"] = \"true\""
      ]
    },
    {
      "cell_type": "code",
      "source": [
        "! git clone https://github.com/verammaz/MedImageClassXAI"
      ],
      "metadata": {
        "colab": {
          "base_uri": "https://localhost:8080/"
        },
        "id": "7q1k_ir5PXRL",
        "outputId": "129391d8-f252-4a8e-a3e1-33336484c509"
      },
      "execution_count": 7,
      "outputs": [
        {
          "output_type": "stream",
          "name": "stdout",
          "text": [
            "Cloning into 'MedImageClassXAI'...\n",
            "remote: Enumerating objects: 46, done.\u001b[K\n",
            "remote: Counting objects: 100% (46/46), done.\u001b[K\n",
            "remote: Compressing objects: 100% (33/33), done.\u001b[K\n",
            "remote: Total 46 (delta 12), reused 44 (delta 10), pack-reused 0 (from 0)\u001b[K\n",
            "Receiving objects: 100% (46/46), 46.28 KiB | 15.43 MiB/s, done.\n",
            "Resolving deltas: 100% (12/12), done.\n"
          ]
        }
      ]
    },
    {
      "cell_type": "code",
      "source": [
        "os.chdir('/content/MedImageClassXAI')"
      ],
      "metadata": {
        "id": "EHAUBNDlPk1i"
      },
      "execution_count": 8,
      "outputs": []
    },
    {
      "cell_type": "code",
      "execution_count": 9,
      "metadata": {
        "colab": {
          "base_uri": "https://localhost:8080/"
        },
        "id": "GuHuC0uMOFxO",
        "outputId": "806e3885-625d-4cee-cbf9-ede6b13789d2"
      },
      "outputs": [
        {
          "output_type": "stream",
          "name": "stdout",
          "text": [
            "/usr/local/lib/python3.10/dist-packages/torch/utils/data/dataloader.py:617: UserWarning: This DataLoader will create 4 worker processes in total. Our suggested max number of worker in current system is 2, which is smaller than what this DataLoader is going to create. Please be aware that excessive worker creation might get DataLoader running slow or even freeze, lower the worker number to avoid potential slowness/freeze if necessary.\n",
            "  warnings.warn(\n",
            "Number of classes    :  2\n",
            "Shape of image       :  torch.Size([1, 256, 256])\n",
            "Train batches        :  82\n",
            "No. of train images  :  5216\n",
            "No. of valid images  :  16\n",
            "Labels               :  {'NORMAL': 0, 'PNEUMONIA': 1}\n",
            "Image stats (mean, std):  tensor(0.5519) tensor(0.2131)\n",
            "----------------------------------------------------------------\n",
            "        Layer (type)               Output Shape         Param #\n",
            "================================================================\n",
            "            Conv2d-1          [-1, 128, 64, 64]           2,176\n",
            "         LayerNorm-2          [-1, 128, 64, 64]       1,048,576\n",
            "            Conv2d-3          [-1, 128, 64, 64]         802,944\n",
            "         LayerNorm-4          [-1, 128, 64, 64]       1,048,576\n",
            "            Conv2d-5          [-1, 256, 64, 64]          33,024\n",
            "              GELU-6          [-1, 256, 64, 64]               0\n",
            "            Conv2d-7          [-1, 128, 64, 64]          32,896\n",
            "         AvgPool2d-8          [-1, 128, 32, 32]               0\n",
            "           Flatten-9               [-1, 131072]               0\n",
            "           Linear-10                    [-1, 2]         262,146\n",
            "================================================================\n",
            "Total params: 3,230,338\n",
            "Trainable params: 3,230,338\n",
            "Non-trainable params: 0\n",
            "----------------------------------------------------------------\n",
            "Input size (MB): 0.25\n",
            "Forward/backward pass size (MB): 38.00\n",
            "Params size (MB): 12.32\n",
            "Estimated Total Size (MB): 50.57\n",
            "----------------------------------------------------------------\n",
            "\n",
            "Epoch 1\n",
            "----------------------\n",
            "Train:   0% 0/82 [00:00<?, ?it/s]/usr/local/lib/python3.10/dist-packages/torch/utils/data/dataloader.py:617: UserWarning: This DataLoader will create 4 worker processes in total. Our suggested max number of worker in current system is 2, which is smaller than what this DataLoader is going to create. Please be aware that excessive worker creation might get DataLoader running slow or even freeze, lower the worker number to avoid potential slowness/freeze if necessary.\n",
            "  warnings.warn(\n",
            "                                                                                        \n",
            "Epoch 2\n",
            "----------------------\n",
            "                                                                                        \n",
            "Epoch 3\n",
            "----------------------\n",
            "                                                                                        \n",
            "Epoch 4\n",
            "----------------------\n",
            "                                                                                        \n",
            "Epoch 5\n",
            "----------------------\n",
            "                                                                                        \n",
            "Epoch 6\n",
            "----------------------\n",
            "                                                                                        \n",
            "Epoch 7\n",
            "----------------------\n",
            "                                                                                        \n",
            "Epoch 8\n",
            "----------------------\n",
            "Done!\n",
            "Traceback (most recent call last):\n",
            "  File \"/content/MedImageClassXAI/cnn.py\", line 269, in <module>\n",
            "    main()\n",
            "  File \"/content/MedImageClassXAI/cnn.py\", line 265, in main\n",
            "    torch.save(model.state_dict(), os.path.join(args.out_dir, \"model.pth\"))\n",
            "  File \"/usr/local/lib/python3.10/dist-packages/torch/serialization.py\", line 849, in save\n",
            "    with _open_zipfile_writer(f) as opened_zipfile:\n",
            "  File \"/usr/local/lib/python3.10/dist-packages/torch/serialization.py\", line 716, in _open_zipfile_writer\n",
            "    return container(name_or_buffer)\n",
            "  File \"/usr/local/lib/python3.10/dist-packages/torch/serialization.py\", line 687, in __init__\n",
            "    super().__init__(torch._C.PyTorchFileWriter(self.name))\n",
            "RuntimeError: Parent directory /out does not exist.\n"
          ]
        }
      ],
      "source": [
        "! python cnn.py -data_dir {data_path} -v -out_dir '/out'"
      ]
    }
  ],
  "metadata": {
    "kernelspec": {
      "display_name": "Python 3",
      "name": "python3"
    },
    "language_info": {
      "codemirror_mode": {
        "name": "ipython",
        "version": 3
      },
      "file_extension": ".py",
      "mimetype": "text/x-python",
      "name": "python",
      "nbconvert_exporter": "python",
      "pygments_lexer": "ipython3",
      "version": "3.11.10"
    },
    "colab": {
      "provenance": [],
      "gpuType": "T4"
    },
    "accelerator": "GPU"
  },
  "nbformat": 4,
  "nbformat_minor": 0
}