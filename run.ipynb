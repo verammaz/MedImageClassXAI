{
  "cells": [
    {
      "cell_type": "code",
      "execution_count": 1,
      "metadata": {
        "id": "YD9ni2GZOFxM"
      },
      "outputs": [],
      "source": [
        "import kagglehub\n",
        "import os"
      ]
    },
    {
      "cell_type": "code",
      "execution_count": 2,
      "metadata": {
        "colab": {
          "base_uri": "https://localhost:8080/"
        },
        "id": "JPemQgvhPLXg",
        "outputId": "9bf7adb0-e2fb-4ab2-fdae-8878f9dc72fe"
      },
      "outputs": [
        {
          "name": "stdout",
          "output_type": "stream",
          "text": [
            "Mounted at /content/drive\n"
          ]
        }
      ],
      "source": [
        "from google.colab import drive\n",
        "drive.mount('/content/drive')"
      ]
    },
    {
      "cell_type": "code",
      "execution_count": 4,
      "metadata": {
        "colab": {
          "base_uri": "https://localhost:8080/"
        },
        "id": "4JSRQLbBOFxO",
        "outputId": "1b55ef9b-7924-46a8-8e3b-6fd7e3570fb8"
      },
      "outputs": [
        {
          "name": "stdout",
          "output_type": "stream",
          "text": [
            "Downloading from https://www.kaggle.com/api/v1/datasets/download/paultimothymooney/chest-xray-pneumonia?dataset_version_number=2...\n"
          ]
        },
        {
          "name": "stderr",
          "output_type": "stream",
          "text": [
            "100%|██████████| 2.29G/2.29G [01:45<00:00, 23.5MB/s]"
          ]
        },
        {
          "name": "stdout",
          "output_type": "stream",
          "text": [
            "Extracting files...\n"
          ]
        },
        {
          "name": "stderr",
          "output_type": "stream",
          "text": [
            "\n"
          ]
        }
      ],
      "source": [
        "# Download latest version\n",
        "data_path = kagglehub.dataset_download(\"paultimothymooney/chest-xray-pneumonia\")\n",
        "data_path = os.path.join(data_path, 'chest_xray')"
      ]
    },
    {
      "cell_type": "code",
      "execution_count": 34,
      "metadata": {},
      "outputs": [],
      "source": [
        "import os\n",
        "import random\n",
        "import shutil\n",
        "from math import ceil\n",
        "\n",
        "def organize_dataset(original_dataset, new_dataset, split_ratios=(0.8, 0.1, 0.1)):\n",
        "    \"\"\"\n",
        "    Combine, shuffle, and split dataset into train, val, and test sets.\n",
        "\n",
        "    :param original_dataset: Path to the original dataset folder\n",
        "    :param new_dataset: Path to the new dataset folder\n",
        "    :param split_ratios: Tuple indicating the train, val, test split ratios\n",
        "    \"\"\"\n",
        "    assert sum(split_ratios) == 1.0, \"Split ratios must sum to 1.0\"\n",
        "    \n",
        "    # Combine all data into a single list\n",
        "    all_data = []\n",
        "    class_names = os.listdir(os.path.join(original_dataset, 'train'))  # Assuming all sets have the same classes\n",
        "\n",
        "    for class_name in class_names:\n",
        "        for folder in ['train', 'val', 'test']:\n",
        "            class_folder = os.path.join(original_dataset, folder, class_name)\n",
        "            if os.path.exists(class_folder):\n",
        "                images = [(os.path.join(class_folder, img), class_name) for img in os.listdir(class_folder)]\n",
        "                all_data.extend(images)\n",
        "\n",
        "    # Shuffle the combined data\n",
        "    random.shuffle(all_data)\n",
        "\n",
        "    # Calculate split sizes\n",
        "    total_images = len(all_data)\n",
        "    train_size = ceil(split_ratios[0] * total_images)\n",
        "    val_size = ceil(split_ratios[1] * total_images)\n",
        "\n",
        "    train_data = all_data[:train_size]\n",
        "    val_data = all_data[train_size:train_size + val_size]\n",
        "    test_data = all_data[train_size + val_size:]\n",
        "\n",
        "    # Create new folder structure\n",
        "    for split, split_data in zip(['train', 'val', 'test'], [train_data, val_data, test_data]):\n",
        "        for img_path, class_name in split_data:\n",
        "            split_class_dir = os.path.join(new_dataset, split, class_name)\n",
        "            os.makedirs(split_class_dir, exist_ok=True)\n",
        "            shutil.copy(img_path, os.path.join(split_class_dir, os.path.basename(img_path)))\n",
        "\n",
        "    print(f\"Dataset organized successfully into {new_dataset}\")\n",
        "    print(f\"Train: {len(train_data)} images, Val: {len(val_data)} images, Test: {len(test_data)} images\")\n",
        "\n"
      ]
    },
    {
      "cell_type": "code",
      "execution_count": 35,
      "metadata": {},
      "outputs": [
        {
          "name": "stdout",
          "output_type": "stream",
          "text": [
            "Dataset organized successfully into ../chest_xray\n",
            "Train: 4685 images, Val: 586 images, Test: 585 images\n"
          ]
        }
      ],
      "source": [
        "new_dataset = \"../chest_xray\"\n",
        "organize_dataset(data_path, new_dataset)"
      ]
    },
    {
      "cell_type": "code",
      "execution_count": 10,
      "metadata": {
        "colab": {
          "base_uri": "https://localhost:8080/"
        },
        "id": "GAr1fUpiP3M6",
        "outputId": "e5f582e3-6b8d-4066-bca4-b019c2c22bcd"
      },
      "outputs": [
        {
          "name": "stderr",
          "output_type": "stream",
          "text": [
            "\u001b[34m\u001b[1mwandb\u001b[0m: Currently logged in as: \u001b[33mvmazeeva\u001b[0m (\u001b[33mvmazeeva-carnegie-mellon-university\u001b[0m). Use \u001b[1m`wandb login --relogin`\u001b[0m to force relogin\n"
          ]
        },
        {
          "data": {
            "text/plain": [
              "True"
            ]
          },
          "execution_count": 10,
          "metadata": {},
          "output_type": "execute_result"
        }
      ],
      "source": [
        "import wandb\n",
        "wandb.login()"
      ]
    },
    {
      "cell_type": "code",
      "execution_count": 6,
      "metadata": {
        "id": "-aOSKycOOFxO"
      },
      "outputs": [],
      "source": [
        "os.environ[\"WANDB_SILENT\"] = \"true\""
      ]
    },
    {
      "cell_type": "code",
      "execution_count": 7,
      "metadata": {
        "colab": {
          "base_uri": "https://localhost:8080/"
        },
        "id": "7q1k_ir5PXRL",
        "outputId": "129391d8-f252-4a8e-a3e1-33336484c509"
      },
      "outputs": [
        {
          "name": "stdout",
          "output_type": "stream",
          "text": [
            "Cloning into 'MedImageClassXAI'...\n",
            "remote: Enumerating objects: 46, done.\u001b[K\n",
            "remote: Counting objects: 100% (46/46), done.\u001b[K\n",
            "remote: Compressing objects: 100% (33/33), done.\u001b[K\n",
            "remote: Total 46 (delta 12), reused 44 (delta 10), pack-reused 0 (from 0)\u001b[K\n",
            "Receiving objects: 100% (46/46), 46.28 KiB | 15.43 MiB/s, done.\n",
            "Resolving deltas: 100% (12/12), done.\n"
          ]
        }
      ],
      "source": [
        "! git clone https://github.com/verammaz/MedImageClassXAI"
      ]
    },
    {
      "cell_type": "code",
      "execution_count": 8,
      "metadata": {
        "id": "EHAUBNDlPk1i"
      },
      "outputs": [],
      "source": [
        "os.chdir('/content/MedImageClassXAI')"
      ]
    },
    {
      "cell_type": "code",
      "execution_count": 19,
      "metadata": {
        "colab": {
          "base_uri": "https://localhost:8080/"
        },
        "id": "GuHuC0uMOFxO",
        "outputId": "806e3885-625d-4cee-cbf9-ede6b13789d2"
      },
      "outputs": [
        {
          "name": "stdout",
          "output_type": "stream",
          "text": [
            "Number of classes    :  2\n",
            "Shape of image       :  torch.Size([1, 256, 256])\n",
            "Train batches        :  82\n",
            "No. of train images  :  5216\n",
            "No. of valid images  :  16\n",
            "Labels               :  {'NORMAL': 0, 'PNEUMONIA': 1}\n",
            "Image stats (mean, std):  tensor(0.5519) tensor(0.2131)\n",
            "----------------------------------------------------------------\n",
            "        Layer (type)               Output Shape         Param #\n",
            "================================================================\n",
            "            Conv2d-1         [-1, 64, 256, 256]             640\n",
            "       BatchNorm2d-2         [-1, 64, 256, 256]             128\n",
            "              ReLU-3         [-1, 64, 256, 256]               0\n",
            "         MaxPool2d-4         [-1, 64, 128, 128]               0\n",
            "            Conv2d-5        [-1, 128, 128, 128]          73,856\n",
            "       BatchNorm2d-6        [-1, 128, 128, 128]             256\n",
            "              ReLU-7        [-1, 128, 128, 128]               0\n",
            "         MaxPool2d-8          [-1, 128, 64, 64]               0\n",
            "            Conv2d-9          [-1, 256, 64, 64]         295,168\n",
            "      BatchNorm2d-10          [-1, 256, 64, 64]             512\n",
            "             ReLU-11          [-1, 256, 64, 64]               0\n",
            "AdaptiveAvgPool2d-12            [-1, 256, 1, 1]               0\n",
            "           Linear-13                    [-1, 2]             514\n",
            "================================================================\n",
            "Total params: 371,074\n",
            "Trainable params: 371,074\n",
            "Non-trainable params: 0\n",
            "----------------------------------------------------------------\n",
            "Input size (MB): 0.25\n",
            "Forward/backward pass size (MB): 180.00\n",
            "Params size (MB): 1.42\n",
            "Estimated Total Size (MB): 181.67\n",
            "----------------------------------------------------------------\n",
            "\n",
            "Epoch 1\n",
            "----------------------\n",
            "Train Loss: 0.2506870088599077, Train Accuracy: 87.91920731707317               \n",
            "Val Loss: 1.4890227317810059, Val Accuracy: 12.5                                \n",
            "Test Loss: 0.690665191411972, Test Accuracy: 66.5625                            \n",
            "\n",
            "Epoch 2\n",
            "----------------------\n",
            "Train:  34%|███      | 28/82 [01:32<03:48,  4.24s/it, acc=91.4062%, loss=0.2227]wandb-core(89463) MallocStackLogging: can't turn off malloc stack logging because it was not enabled.\n",
            "Train:  37%|███▎     | 30/82 [01:41<03:44,  4.31s/it, acc=91.1458%, loss=0.2237]wandb-core(89464) MallocStackLogging: can't turn off malloc stack logging because it was not enabled.\n",
            "Train:  43%|███▊     | 35/82 [01:55<01:52,  2.40s/it, acc=90.9821%, loss=0.2271]wandb-core(89465) MallocStackLogging: can't turn off malloc stack logging because it was not enabled.\n",
            "Train:  48%|████▎    | 39/82 [02:01<01:25,  1.98s/it, acc=90.9455%, loss=0.2257]wandb-core(89467) MallocStackLogging: can't turn off malloc stack logging because it was not enabled.\n",
            "Train:  51%|████▌    | 42/82 [02:12<01:59,  3.00s/it, acc=90.7366%, loss=0.2260]wandb-core(89469) MallocStackLogging: can't turn off malloc stack logging because it was not enabled.\n",
            "Train:  55%|████▉    | 45/82 [02:22<01:47,  2.90s/it, acc=90.7292%, loss=0.2273]wandb-core(89470) MallocStackLogging: can't turn off malloc stack logging because it was not enabled.\n",
            "Train:  60%|█████▍   | 49/82 [02:32<01:31,  2.77s/it, acc=90.7844%, loss=0.2248]wandb-core(89493) MallocStackLogging: can't turn off malloc stack logging because it was not enabled.\n",
            "Train:  65%|█████▊   | 53/82 [02:44<01:14,  2.55s/it, acc=90.5955%, loss=0.2257]wandb-core(89508) MallocStackLogging: can't turn off malloc stack logging because it was not enabled.\n",
            "Train:  71%|██████▎  | 58/82 [02:51<00:39,  1.63s/it, acc=90.6519%, loss=0.2252]wandb-core(89532) MallocStackLogging: can't turn off malloc stack logging because it was not enabled.\n",
            "Train:  74%|██████▋  | 61/82 [03:04<01:10,  3.38s/it, acc=90.5225%, loss=0.2265]wandb-core(89551) MallocStackLogging: can't turn off malloc stack logging because it was not enabled.\n",
            "Train:  77%|██████▉  | 63/82 [03:11<01:05,  3.43s/it, acc=90.5754%, loss=0.2255]wandb-core(89563) MallocStackLogging: can't turn off malloc stack logging because it was not enabled.\n",
            "Train:  80%|███████▏ | 66/82 [03:24<01:03,  3.95s/it, acc=90.7197%, loss=0.2224]wandb-core(89583) MallocStackLogging: can't turn off malloc stack logging because it was not enabled.\n",
            "Train:  85%|███████▋ | 70/82 [03:34<00:35,  2.96s/it, acc=90.5804%, loss=0.2250]wandb-core(89595) MallocStackLogging: can't turn off malloc stack logging because it was not enabled.\n",
            "Train:  88%|███████▉ | 72/82 [03:41<00:35,  3.52s/it, acc=90.6033%, loss=0.2248]wandb-core(89598) MallocStackLogging: can't turn off malloc stack logging because it was not enabled.\n",
            "Train:  93%|████████▎| 76/82 [03:53<00:16,  2.78s/it, acc=90.6250%, loss=0.2261]wandb-core(89601) MallocStackLogging: can't turn off malloc stack logging because it was not enabled.\n",
            "Train:  96%|████████▋| 79/82 [04:02<00:08,  2.71s/it, acc=90.6250%, loss=0.2285]wandb-core(89619) MallocStackLogging: can't turn off malloc stack logging because it was not enabled.\n",
            "Train: 100%|█████████| 82/82 [04:08<00:00,  2.06s/it, acc=89.9771%, loss=0.2292]wandb-core(89636) MallocStackLogging: can't turn off malloc stack logging because it was not enabled.\n",
            "Evaluate on Train dataset:   0%|                         | 0/82 [00:00<?, ?it/s]python(89646) MallocStackLogging: can't turn off malloc stack logging because it was not enabled.\n",
            "python(89651) MallocStackLogging: can't turn off malloc stack logging because it was not enabled.\n",
            "wandb-core(89659) MallocStackLogging: can't turn off malloc stack logging because it was not enabled.\n",
            "Evaluate on Train dataset:  17%|▏| 14/82 [00:16<00:44,  1.54it/s, acc=88.6161%, wandb-core(89674) MallocStackLogging: can't turn off malloc stack logging because it was not enabled.\n",
            "Evaluate on Train dataset:  26%|▎| 21/82 [00:25<01:40,  1.65s/it, acc=88.6905%, wandb-core(89697) MallocStackLogging: can't turn off malloc stack logging because it was not enabled.\n",
            "Evaluate on Train dataset:  38%|▍| 31/82 [00:35<00:54,  1.07s/it, acc=88.9617%, wandb-core(89716) MallocStackLogging: can't turn off malloc stack logging because it was not enabled.\n",
            "Evaluate on Train dataset:  48%|▍| 39/82 [00:45<01:12,  1.68s/it, acc=88.7019%, wandb-core(89733) MallocStackLogging: can't turn off malloc stack logging because it was not enabled.\n",
            "Evaluate on Train dataset:  57%|▌| 47/82 [00:53<00:23,  1.50it/s, acc=89.0625%, wandb-core(89749) MallocStackLogging: can't turn off malloc stack logging because it was not enabled.\n",
            "Evaluate on Train dataset:  67%|▋| 55/82 [01:04<00:22,  1.22it/s, acc=89.0625%, wandb-core(89764) MallocStackLogging: can't turn off malloc stack logging because it was not enabled.\n",
            "Evaluate on Train dataset:  79%|▊| 65/82 [01:14<00:13,  1.30it/s, acc=89.2308%, wandb-core(89795) MallocStackLogging: can't turn off malloc stack logging because it was not enabled.\n",
            "Evaluate on Train dataset:  91%|▉| 75/82 [01:24<00:05,  1.33it/s, acc=89.3125%, wandb-core(89805) MallocStackLogging: can't turn off malloc stack logging because it was not enabled.\n",
            "Evaluate on Train dataset: 100%|█| 82/82 [01:30<00:00,  1.57it/s, acc=88.6623%, wandb-core(89847) MallocStackLogging: can't turn off malloc stack logging because it was not enabled.\n",
            "Train Loss: 0.26318716875663617, Train Accuracy: 88.6623475609756               \n",
            "Evaluate on Validation dataset:   0%|                     | 0/1 [00:00<?, ?it/s]python(89859) MallocStackLogging: can't turn off malloc stack logging because it was not enabled.\n",
            "python(89860) MallocStackLogging: can't turn off malloc stack logging because it was not enabled.\n",
            "Evaluate on Validation dataset: 100%|█| 1/1 [00:03<00:00,  3.97s/it, acc=14.0625wandb-core(89896) MallocStackLogging: can't turn off malloc stack logging because it was not enabled.\n",
            "Val Loss: 0.8277823328971863, Val Accuracy: 14.0625                             \n",
            "Evaluate on Test dataset:   0%|                          | 0/10 [00:00<?, ?it/s]python(89928) MallocStackLogging: can't turn off malloc stack logging because it was not enabled.\n",
            "python(89929) MallocStackLogging: can't turn off malloc stack logging because it was not enabled.\n",
            "Evaluate on Test dataset:  10%| | 1/10 [00:06<00:56,  6.25s/it, acc=84.3750%, lowandb-core(89953) MallocStackLogging: can't turn off malloc stack logging because it was not enabled.\n",
            "Evaluate on Test dataset: 100%|█| 10/10 [00:13<00:00,  1.14s/it, acc=80.7812%, lwandb-core(89962) MallocStackLogging: can't turn off malloc stack logging because it was not enabled.\n",
            "Test Loss: 0.40871140360832214, Test Accuracy: 80.78125                         \n",
            "\n",
            "Epoch 3\n",
            "----------------------\n",
            "Train:   0%|                                             | 0/82 [00:00<?, ?it/s]python(89963) MallocStackLogging: can't turn off malloc stack logging because it was not enabled.\n",
            "python(89968) MallocStackLogging: can't turn off malloc stack logging because it was not enabled.\n",
            "wandb-core(89969) MallocStackLogging: can't turn off malloc stack logging because it was not enabled.\n",
            "wandb-core(89992) MallocStackLogging: can't turn off malloc stack logging because it was not enabled.\n",
            "Train:   7%|▋         | 6/82 [00:22<02:42,  2.14s/it, acc=92.9688%, loss=0.1916]wandb-core(89993) MallocStackLogging: can't turn off malloc stack logging because it was not enabled.\n",
            "Train:  16%|█▍       | 13/82 [00:32<01:50,  1.60s/it, acc=92.0673%, loss=0.2073]wandb-core(89994) MallocStackLogging: can't turn off malloc stack logging because it was not enabled.\n",
            "Train:  20%|█▊       | 16/82 [00:38<02:23,  2.17s/it, acc=91.5039%, loss=0.2175]wandb-core(89996) MallocStackLogging: can't turn off malloc stack logging because it was not enabled.\n",
            "Train:  23%|██       | 19/82 [00:52<03:52,  3.69s/it, acc=91.5296%, loss=0.2154]wandb-core(90003) MallocStackLogging: can't turn off malloc stack logging because it was not enabled.\n",
            "Train:  26%|██▎      | 21/82 [01:02<04:13,  4.15s/it, acc=91.7411%, loss=0.2125]wandb-core(90006) MallocStackLogging: can't turn off malloc stack logging because it was not enabled.\n",
            "Train:  28%|██▌      | 23/82 [01:09<03:51,  3.92s/it, acc=91.5082%, loss=0.2145]wandb-core(90008) MallocStackLogging: can't turn off malloc stack logging because it was not enabled.\n",
            "Train:  30%|██▋      | 25/82 [01:18<04:04,  4.29s/it, acc=91.2500%, loss=0.2176]wandb-core(90010) MallocStackLogging: can't turn off malloc stack logging because it was not enabled.\n",
            "Train:  35%|███▏     | 29/82 [01:31<02:55,  3.31s/it, acc=91.3793%, loss=0.2128]wandb-core(90011) MallocStackLogging: can't turn off malloc stack logging because it was not enabled.\n",
            "Train:  38%|███▍     | 31/82 [01:40<03:26,  4.04s/it, acc=91.3306%, loss=0.2145]wandb-core(90013) MallocStackLogging: can't turn off malloc stack logging because it was not enabled.\n",
            "Train:  40%|███▌     | 33/82 [01:52<04:08,  5.07s/it, acc=91.3352%, loss=0.2140]wandb-core(90019) MallocStackLogging: can't turn off malloc stack logging because it was not enabled.\n",
            "Train:  44%|███▉     | 36/82 [02:01<02:47,  3.65s/it, acc=91.3194%, loss=0.2187]wandb-core(90045) MallocStackLogging: can't turn off malloc stack logging because it was not enabled.\n",
            "Train:  48%|████▎    | 39/82 [02:12<02:27,  3.43s/it, acc=91.3862%, loss=0.2190]wandb-core(90051) MallocStackLogging: can't turn off malloc stack logging because it was not enabled.\n",
            "Train:  50%|████▌    | 41/82 [02:20<02:37,  3.84s/it, acc=91.5015%, loss=0.2178]wandb-core(90057) MallocStackLogging: can't turn off malloc stack logging because it was not enabled.\n",
            "Train:  55%|████▉    | 45/82 [02:30<01:39,  2.69s/it, acc=91.5972%, loss=0.2167]wandb-core(90061) MallocStackLogging: can't turn off malloc stack logging because it was not enabled.\n",
            "Train:  56%|█████    | 46/82 [02:34<01:55,  3.20s/it, acc=91.6440%, loss=0.2176]wandb-core(90071) MallocStackLogging: can't turn off malloc stack logging because it was not enabled.\n",
            "Train:  59%|█████▎   | 48/82 [02:52<03:11,  5.63s/it, acc=91.5039%, loss=0.2196]wandb-core(90077) MallocStackLogging: can't turn off malloc stack logging because it was not enabled.\n",
            "Train:  65%|█████▊   | 53/82 [03:02<01:18,  2.69s/it, acc=91.3620%, loss=0.2195]wandb-core(90080) MallocStackLogging: can't turn off malloc stack logging because it was not enabled.\n",
            "Train:  67%|██████   | 55/82 [03:11<01:39,  3.67s/it, acc=91.3920%, loss=0.2202]wandb-core(90084) MallocStackLogging: can't turn off malloc stack logging because it was not enabled.\n",
            "Train:  71%|██████▎  | 58/82 [03:20<01:22,  3.42s/it, acc=91.5409%, loss=0.2179]wandb-core(90087) MallocStackLogging: can't turn off malloc stack logging because it was not enabled.\n",
            "Train:  76%|██████▊  | 62/82 [03:32<00:54,  2.74s/it, acc=91.5323%, loss=0.2165]wandb-core(90094) MallocStackLogging: can't turn off malloc stack logging because it was not enabled.\n",
            "Train:  80%|███████▏ | 66/82 [03:41<00:34,  2.17s/it, acc=91.6193%, loss=0.2151]wandb-core(90099) MallocStackLogging: can't turn off malloc stack logging because it was not enabled.\n",
            "Train:  84%|███████▌ | 69/82 [03:52<00:34,  2.67s/it, acc=91.4402%, loss=0.2157]wandb-core(90104) MallocStackLogging: can't turn off malloc stack logging because it was not enabled.\n",
            "Train:  88%|███████▉ | 72/82 [03:59<00:25,  2.55s/it, acc=91.3845%, loss=0.2166]wandb-core(90116) MallocStackLogging: can't turn off malloc stack logging because it was not enabled.\n",
            "Train:  91%|████████▏| 75/82 [04:11<00:21,  3.14s/it, acc=91.5000%, loss=0.2146]wandb-core(90125) MallocStackLogging: can't turn off malloc stack logging because it was not enabled.\n",
            "Train:  94%|████████▍| 77/82 [04:22<00:22,  4.44s/it, acc=91.3555%, loss=0.2158]wandb-core(90170) MallocStackLogging: can't turn off malloc stack logging because it was not enabled.\n",
            "Train: 100%|█████████| 82/82 [04:32<00:00,  2.75s/it, acc=90.9108%, loss=0.2159]wandb-core(90183) MallocStackLogging: can't turn off malloc stack logging because it was not enabled.\n",
            "Evaluate on Train dataset:   0%|                         | 0/82 [00:00<?, ?it/s]python(90212) MallocStackLogging: can't turn off malloc stack logging because it was not enabled.\n",
            "wandb-core(90213) MallocStackLogging: can't turn off malloc stack logging because it was not enabled.\n",
            "python(90218) MallocStackLogging: can't turn off malloc stack logging because it was not enabled.\n",
            "Evaluate on Train dataset:   1%| | 1/82 [00:09<12:54,  9.56s/it, acc=90.6250%, lwandb-core(90231) MallocStackLogging: can't turn off malloc stack logging because it was not enabled.\n",
            "Evaluate on Train dataset:  20%|▏| 16/82 [00:19<00:55,  1.19it/s, acc=87.1094%, wandb-core(90248) MallocStackLogging: can't turn off malloc stack logging because it was not enabled.\n",
            "Evaluate on Train dataset:  30%|▎| 25/82 [00:27<00:42,  1.35it/s, acc=86.7500%, wandb-core(90249) MallocStackLogging: can't turn off malloc stack logging because it was not enabled.\n",
            "Evaluate on Train dataset:  48%|▍| 39/82 [00:40<00:29,  1.44it/s, acc=87.7003%, wandb-core(90250) MallocStackLogging: can't turn off malloc stack logging because it was not enabled.\n",
            "Evaluate on Train dataset:  61%|▌| 50/82 [00:49<00:26,  1.21it/s, acc=87.5938%, wandb-core(90252) MallocStackLogging: can't turn off malloc stack logging because it was not enabled.\n",
            "Evaluate on Train dataset:  73%|▋| 60/82 [00:58<00:17,  1.24it/s, acc=87.9948%, wandb-core(90254) MallocStackLogging: can't turn off malloc stack logging because it was not enabled.\n",
            "Evaluate on Train dataset:  87%|▊| 71/82 [01:10<00:09,  1.11it/s, acc=88.2482%, wandb-core(90259) MallocStackLogging: can't turn off malloc stack logging because it was not enabled.\n",
            "Evaluate on Train dataset: 100%|█| 82/82 [01:19<00:00,  1.48it/s, acc=87.6143%, wandb-core(90260) MallocStackLogging: can't turn off malloc stack logging because it was not enabled.\n",
            "Train Loss: 0.2560914753958946, Train Accuracy: 87.61432926829268               \n",
            "Evaluate on Validation dataset:   0%|                     | 0/1 [00:00<?, ?it/s]python(90263) MallocStackLogging: can't turn off malloc stack logging because it was not enabled.\n",
            "python(90264) MallocStackLogging: can't turn off malloc stack logging because it was not enabled.\n",
            "wandb-core(90265) MallocStackLogging: can't turn off malloc stack logging because it was not enabled.\n",
            "Val Loss: 1.5780668258666992, Val Accuracy: 12.5                                \n",
            "Evaluate on Test dataset:   0%|                          | 0/10 [00:00<?, ?it/s]python(90275) MallocStackLogging: can't turn off malloc stack logging because it was not enabled.\n",
            "python(90276) MallocStackLogging: can't turn off malloc stack logging because it was not enabled.\n",
            "wandb-core(90285) MallocStackLogging: can't turn off malloc stack logging because it was not enabled.\n",
            "Evaluate on Test dataset:  90%|▉| 9/10 [00:10<00:00,  1.16it/s, acc=70.1389%, lowandb-core(90288) MallocStackLogging: can't turn off malloc stack logging because it was not enabled.\n",
            "Evaluate on Test dataset: 100%|█| 10/10 [00:17<00:00,  2.89s/it, acc=67.8125%, lwandb-core(90291) MallocStackLogging: can't turn off malloc stack logging because it was not enabled.\n",
            "Test Loss: 0.7846552699804306, Test Accuracy: 67.8125                           \n",
            "\n",
            "Epoch 4\n",
            "----------------------\n",
            "Train:   0%|                                             | 0/82 [00:00<?, ?it/s]python(90293) MallocStackLogging: can't turn off malloc stack logging because it was not enabled.\n",
            "python(90298) MallocStackLogging: can't turn off malloc stack logging because it was not enabled.\n",
            "wandb-core(90303) MallocStackLogging: can't turn off malloc stack logging because it was not enabled.\n",
            "wandb-core(90310) MallocStackLogging: can't turn off malloc stack logging because it was not enabled.\n",
            "Train:   7%|▋         | 6/82 [00:22<02:41,  2.13s/it, acc=93.2292%, loss=0.1973]wandb-core(90312) MallocStackLogging: can't turn off malloc stack logging because it was not enabled.\n",
            "Train:  16%|█▍       | 13/82 [00:33<01:53,  1.65s/it, acc=90.3846%, loss=0.2252]wandb-core(90318) MallocStackLogging: can't turn off malloc stack logging because it was not enabled.\n",
            "Train:  22%|█▉       | 18/82 [00:43<02:05,  1.96s/it, acc=91.0590%, loss=0.2206]wandb-core(90320) MallocStackLogging: can't turn off malloc stack logging because it was not enabled.\n",
            "Train:  26%|██▎      | 21/82 [00:51<02:22,  2.34s/it, acc=91.4435%, loss=0.2133]wandb-core(90329) MallocStackLogging: can't turn off malloc stack logging because it was not enabled.\n",
            "Train:  29%|██▋      | 24/82 [01:02<03:14,  3.36s/it, acc=91.5365%, loss=0.2096]wandb-core(90335) MallocStackLogging: can't turn off malloc stack logging because it was not enabled.\n",
            "Train:  35%|███▏     | 29/82 [01:13<02:08,  2.42s/it, acc=91.5409%, loss=0.2106]wandb-core(90340) MallocStackLogging: can't turn off malloc stack logging because it was not enabled.\n",
            "Train:  39%|███▌     | 32/82 [01:22<02:38,  3.17s/it, acc=91.5039%, loss=0.2103]wandb-core(90343) MallocStackLogging: can't turn off malloc stack logging because it was not enabled.\n",
            "Train:  43%|███▊     | 35/82 [01:31<02:16,  2.90s/it, acc=91.9196%, loss=0.2041]wandb-core(90345) MallocStackLogging: can't turn off malloc stack logging because it was not enabled.\n",
            "Train:  48%|████▎    | 39/82 [01:42<02:06,  2.93s/it, acc=91.8269%, loss=0.2025]wandb-core(90347) MallocStackLogging: can't turn off malloc stack logging because it was not enabled.\n",
            "Train:  49%|████▍    | 40/82 [01:50<03:06,  4.44s/it, acc=91.9531%, loss=0.2010]wandb-core(90362) MallocStackLogging: can't turn off malloc stack logging because it was not enabled.\n",
            "Train:  52%|████▋    | 43/82 [01:59<02:02,  3.15s/it, acc=91.9695%, loss=0.2010]wandb-core(90363) MallocStackLogging: can't turn off malloc stack logging because it was not enabled.\n",
            "Train:  57%|█████▏   | 47/82 [02:11<01:31,  2.63s/it, acc=91.9548%, loss=0.2025]wandb-core(90364) MallocStackLogging: can't turn off malloc stack logging because it was not enabled.\n",
            "Train:  62%|█████▌   | 51/82 [02:23<01:33,  3.03s/it, acc=92.0037%, loss=0.2022]wandb-core(90369) MallocStackLogging: can't turn off malloc stack logging because it was not enabled.\n",
            "Train:  65%|█████▊   | 53/82 [02:32<01:51,  3.85s/it, acc=91.9517%, loss=0.2011]wandb-core(90370) MallocStackLogging: can't turn off malloc stack logging because it was not enabled.\n",
            "Train:  68%|██████▏  | 56/82 [02:43<01:40,  3.88s/it, acc=91.9364%, loss=0.2021]wandb-core(90373) MallocStackLogging: can't turn off malloc stack logging because it was not enabled.\n",
            "Train:  72%|██████▍  | 59/82 [02:51<01:12,  3.14s/it, acc=92.1081%, loss=0.2014]wandb-core(90374) MallocStackLogging: can't turn off malloc stack logging because it was not enabled.\n",
            "Train:  74%|██████▋  | 61/82 [03:03<01:28,  4.20s/it, acc=91.9826%, loss=0.2034]wandb-core(90378) MallocStackLogging: can't turn off malloc stack logging because it was not enabled.\n",
            "Train:  79%|███████▏ | 65/82 [03:12<00:50,  2.95s/it, acc=92.1394%, loss=0.2021]wandb-core(90382) MallocStackLogging: can't turn off malloc stack logging because it was not enabled.\n",
            "Train:  84%|███████▌ | 69/82 [03:23<00:35,  2.71s/it, acc=92.3007%, loss=0.1987]wandb-core(90384) MallocStackLogging: can't turn off malloc stack logging because it was not enabled.\n",
            "Train:  88%|███████▉ | 72/82 [03:32<00:27,  2.70s/it, acc=92.3177%, loss=0.1997]wandb-core(90388) MallocStackLogging: can't turn off malloc stack logging because it was not enabled.\n",
            "Train:  93%|████████▎| 76/82 [03:43<00:16,  2.73s/it, acc=92.2697%, loss=0.2021]wandb-core(90389) MallocStackLogging: can't turn off malloc stack logging because it was not enabled.\n",
            "Train:  99%|████████▉| 81/82 [03:52<00:01,  1.89s/it, acc=92.2068%, loss=0.2037]wandb-core(90392) MallocStackLogging: can't turn off malloc stack logging because it was not enabled.\n",
            "Train: 100%|█████████| 82/82 [03:54<00:00,  1.75s/it, acc=91.5968%, loss=0.2050]wandb-core(90395) MallocStackLogging: can't turn off malloc stack logging because it was not enabled.\n",
            "Evaluate on Train dataset:   0%|                         | 0/82 [00:00<?, ?it/s]python(90398) MallocStackLogging: can't turn off malloc stack logging because it was not enabled.\n",
            "python(90403) MallocStackLogging: can't turn off malloc stack logging because it was not enabled.\n",
            "Evaluate on Train dataset:   2%| | 2/82 [00:09<05:29,  4.12s/it, acc=84.3750%, lwandb-core(90411) MallocStackLogging: can't turn off malloc stack logging because it was not enabled.\n",
            "Evaluate on Train dataset:  20%|▏| 16/82 [00:18<00:47,  1.38it/s, acc=87.1094%, wandb-core(90412) MallocStackLogging: can't turn off malloc stack logging because it was not enabled.\n",
            "Evaluate on Train dataset:  34%|▎| 28/82 [00:29<00:34,  1.57it/s, acc=86.4397%, wandb-core(90414) MallocStackLogging: can't turn off malloc stack logging because it was not enabled.\n",
            "Evaluate on Train dataset:  46%|▍| 38/82 [00:38<00:39,  1.10it/s, acc=87.1711%, wandb-core(90415) MallocStackLogging: can't turn off malloc stack logging because it was not enabled.\n",
            "Evaluate on Train dataset:  59%|▌| 48/82 [00:49<00:37,  1.11s/it, acc=87.4023%, wandb-core(90416) MallocStackLogging: can't turn off malloc stack logging because it was not enabled.\n",
            "Evaluate on Train dataset:  72%|▋| 59/82 [00:59<00:19,  1.16it/s, acc=87.4470%, wandb-core(90418) MallocStackLogging: can't turn off malloc stack logging because it was not enabled.\n",
            "Evaluate on Train dataset:  84%|▊| 69/82 [01:09<00:09,  1.33it/s, acc=87.5679%, wandb-core(90435) MallocStackLogging: can't turn off malloc stack logging because it was not enabled.\n",
            "Evaluate on Train dataset:  94%|▉| 77/82 [01:18<00:03,  1.52it/s, acc=87.5609%, wandb-core(90438) MallocStackLogging: can't turn off malloc stack logging because it was not enabled.\n",
            "Evaluate on Train dataset: 100%|█| 82/82 [01:23<00:00,  1.50it/s, acc=87.0046%, wandb-core(90456) MallocStackLogging: can't turn off malloc stack logging because it was not enabled.\n",
            "Train Loss: 0.26505521194237036, Train Accuracy: 87.0045731707317               \n",
            "Evaluate on Validation dataset:   0%|                     | 0/1 [00:00<?, ?it/s]python(90457) MallocStackLogging: can't turn off malloc stack logging because it was not enabled.\n",
            "python(90458) MallocStackLogging: can't turn off malloc stack logging because it was not enabled.\n",
            "Evaluate on Validation dataset: 100%|█| 1/1 [00:03<00:00,  3.88s/it, acc=12.5000wandb-core(90468) MallocStackLogging: can't turn off malloc stack logging because it was not enabled.\n",
            "Val Loss: 1.777029037475586, Val Accuracy: 12.5                                 \n",
            "Evaluate on Test dataset:   0%|                          | 0/10 [00:00<?, ?it/s]python(90469) MallocStackLogging: can't turn off malloc stack logging because it was not enabled.\n",
            "python(90470) MallocStackLogging: can't turn off malloc stack logging because it was not enabled.\n",
            "Evaluate on Test dataset:  10%| | 1/10 [00:05<00:49,  5.55s/it, acc=68.7500%, lowandb-core(90481) MallocStackLogging: can't turn off malloc stack logging because it was not enabled.\n",
            "Evaluate on Test dataset:  90%|▉| 9/10 [00:10<00:00,  1.35it/s, acc=68.9236%, lowandb-core(90483) MallocStackLogging: can't turn off malloc stack logging because it was not enabled.\n",
            "Evaluate on Test dataset: 100%|█| 10/10 [00:19<00:00,  3.07s/it, acc=66.8750%, lwandb-core(90487) MallocStackLogging: can't turn off malloc stack logging because it was not enabled.\n",
            "Test Loss: 0.7846529603004455, Test Accuracy: 66.875                            \n",
            "Done!\n",
            "\n",
            "Final Model Performance:\n",
            "-------------------\n",
            "Evaluate on Test dataset:   0%|                          | 0/10 [00:00<?, ?it/s]python(90488) MallocStackLogging: can't turn off malloc stack logging because it was not enabled.\n",
            "python(90489) MallocStackLogging: can't turn off malloc stack logging because it was not enabled.\n",
            "Evaluate on Test dataset:  60%|▌| 6/10 [00:08<00:02,  1.47it/s, acc=70.5729%, lowandb-core(90500) MallocStackLogging: can't turn off malloc stack logging because it was not enabled.\n",
            "Evaluate on Test dataset: 100%|█| 10/10 [00:11<00:00,  1.23it/s, acc=66.8750%, lwandb-core(90502) MallocStackLogging: can't turn off malloc stack logging because it was not enabled.\n",
            "Loss: 0.7921278357505799, Accuracy: 66.875                                      \n",
            "Confusion Matrix\n",
            ": [[386 192]\n",
            " [  4  42]]\n",
            "Sensitivity: 0.9897435897435898, Specificity: 0.1794871794871795\n",
            "\u001b[1;34mwandb\u001b[0m: 🚀 View run \u001b[33mdazzling-butterfly-14\u001b[0m at: \u001b[34mhttps://wandb.ai/vmazeeva-carnegie-mellon-university/compmed/runs/gxbo2wvt\u001b[0m\n",
            "\u001b[1;34mwandb\u001b[0m: Find logs at: \u001b[1;35mwandb/run-20241127_230021-gxbo2wvt/logs\u001b[0m\n"
          ]
        }
      ],
      "source": [
        "! python cnn.py -data_dir {data_path} -v -n_epochs 4"
      ]
    },
    {
      "cell_type": "code",
      "execution_count": 85,
      "metadata": {},
      "outputs": [
        {
          "name": "stderr",
          "output_type": "stream",
          "text": [
            "python(21463) MallocStackLogging: can't turn off malloc stack logging because it was not enabled.\n"
          ]
        },
        {
          "name": "stdout",
          "output_type": "stream",
          "text": [
            "Some weights of ViTForImageClassification were not initialized from the model checkpoint at google/vit-base-patch16-224-in21k and are newly initialized: ['classifier.bias', 'classifier.weight']\n",
            "You should probably TRAIN this model on a down-stream task to be able to use it for predictions and inference.\n",
            "Device: cpu\n",
            "\n",
            "Epoch 1\n",
            "----------------------\n",
            "Evaluate on Train dataset:   2%| | 6/293 [00:06<05:13,  1.09s/it, acc=69.7917%, ^C\n",
            "Traceback (most recent call last):\n",
            "  File \"/Users/veramazeeva/Library/CloudStorage/OneDrive-Personal/Carnegie Mellon/CompMed/project/code/vit.py\", line 344, in <module>\n",
            "    main()\n",
            "  File \"/Users/veramazeeva/Library/CloudStorage/OneDrive-Personal/Carnegie Mellon/CompMed/project/code/vit.py\", line 295, in main\n",
            "    train_loss, train_acc, sens, spec = evaluate(model, train_dataloader, 'Train', criterion)\n",
            "                                        ^^^^^^^^^^^^^^^^^^^^^^^^^^^^^^^^^^^^^^^^^^^^^^^^^^^^^\n",
            "  File \"/Users/veramazeeva/Library/CloudStorage/OneDrive-Personal/Carnegie Mellon/CompMed/project/code/vit.py\", line 181, in evaluate\n",
            "    outputs = model(images)\n",
            "              ^^^^^^^^^^^^^\n",
            "  File \"/opt/anaconda3/envs/ml_ai/lib/python3.11/site-packages/torch/nn/modules/module.py\", line 1736, in _wrapped_call_impl\n",
            "    return self._call_impl(*args, **kwargs)\n",
            "           ^^^^^^^^^^^^^^^^^^^^^^^^^^^^^^^^\n",
            "  File \"/opt/anaconda3/envs/ml_ai/lib/python3.11/site-packages/torch/nn/modules/module.py\", line 1844, in _call_impl\n",
            "    return inner()\n",
            "           ^^^^^^^\n",
            "  File \"/opt/anaconda3/envs/ml_ai/lib/python3.11/site-packages/torch/nn/modules/module.py\", line 1790, in inner\n",
            "    result = forward_call(*args, **kwargs)\n",
            "             ^^^^^^^^^^^^^^^^^^^^^^^^^^^^^\n",
            "  File \"/Users/veramazeeva/Library/CloudStorage/OneDrive-Personal/Carnegie Mellon/CompMed/project/code/vit.py\", line 47, in forward\n",
            "    return self.model(x)\n",
            "           ^^^^^^^^^^^^^\n",
            "  File \"/opt/anaconda3/envs/ml_ai/lib/python3.11/site-packages/torch/nn/modules/module.py\", line 1736, in _wrapped_call_impl\n",
            "    return self._call_impl(*args, **kwargs)\n",
            "           ^^^^^^^^^^^^^^^^^^^^^^^^^^^^^^^^\n",
            "  File \"/opt/anaconda3/envs/ml_ai/lib/python3.11/site-packages/torch/nn/modules/module.py\", line 1747, in _call_impl\n",
            "    return forward_call(*args, **kwargs)\n",
            "           ^^^^^^^^^^^^^^^^^^^^^^^^^^^^^\n",
            "  File \"/opt/anaconda3/envs/ml_ai/lib/python3.11/site-packages/transformers/models/vit/modeling_vit.py\", line 856, in forward\n",
            "    outputs = self.vit(\n",
            "              ^^^^^^^^^\n",
            "  File \"/opt/anaconda3/envs/ml_ai/lib/python3.11/site-packages/torch/nn/modules/module.py\", line 1736, in _wrapped_call_impl\n",
            "    return self._call_impl(*args, **kwargs)\n",
            "           ^^^^^^^^^^^^^^^^^^^^^^^^^^^^^^^^\n",
            "  File \"/opt/anaconda3/envs/ml_ai/lib/python3.11/site-packages/torch/nn/modules/module.py\", line 1747, in _call_impl\n",
            "    return forward_call(*args, **kwargs)\n",
            "           ^^^^^^^^^^^^^^^^^^^^^^^^^^^^^\n",
            "  File \"/opt/anaconda3/envs/ml_ai/lib/python3.11/site-packages/transformers/models/vit/modeling_vit.py\", line 639, in forward\n",
            "    encoder_outputs = self.encoder(\n",
            "                      ^^^^^^^^^^^^^\n",
            "  File \"/opt/anaconda3/envs/ml_ai/lib/python3.11/site-packages/torch/nn/modules/module.py\", line 1736, in _wrapped_call_impl\n",
            "    return self._call_impl(*args, **kwargs)\n",
            "           ^^^^^^^^^^^^^^^^^^^^^^^^^^^^^^^^\n",
            "  File \"/opt/anaconda3/envs/ml_ai/lib/python3.11/site-packages/torch/nn/modules/module.py\", line 1747, in _call_impl\n",
            "    return forward_call(*args, **kwargs)\n",
            "           ^^^^^^^^^^^^^^^^^^^^^^^^^^^^^\n",
            "  File \"/opt/anaconda3/envs/ml_ai/lib/python3.11/site-packages/transformers/models/vit/modeling_vit.py\", line 468, in forward\n",
            "    layer_outputs = layer_module(hidden_states, layer_head_mask, output_attentions)\n",
            "                    ^^^^^^^^^^^^^^^^^^^^^^^^^^^^^^^^^^^^^^^^^^^^^^^^^^^^^^^^^^^^^^^\n",
            "  File \"/opt/anaconda3/envs/ml_ai/lib/python3.11/site-packages/torch/nn/modules/module.py\", line 1736, in _wrapped_call_impl\n",
            "    return self._call_impl(*args, **kwargs)\n",
            "           ^^^^^^^^^^^^^^^^^^^^^^^^^^^^^^^^\n",
            "  File \"/opt/anaconda3/envs/ml_ai/lib/python3.11/site-packages/torch/nn/modules/module.py\", line 1747, in _call_impl\n",
            "    return forward_call(*args, **kwargs)\n",
            "           ^^^^^^^^^^^^^^^^^^^^^^^^^^^^^\n",
            "  File \"/opt/anaconda3/envs/ml_ai/lib/python3.11/site-packages/transformers/models/vit/modeling_vit.py\", line 426, in forward\n",
            "    layer_output = self.intermediate(layer_output)\n",
            "                   ^^^^^^^^^^^^^^^^^^^^^^^^^^^^^^^\n",
            "  File \"/opt/anaconda3/envs/ml_ai/lib/python3.11/site-packages/torch/nn/modules/module.py\", line 1736, in _wrapped_call_impl\n",
            "    return self._call_impl(*args, **kwargs)\n",
            "           ^^^^^^^^^^^^^^^^^^^^^^^^^^^^^^^^\n",
            "  File \"/opt/anaconda3/envs/ml_ai/lib/python3.11/site-packages/torch/nn/modules/module.py\", line 1747, in _call_impl\n",
            "    return forward_call(*args, **kwargs)\n",
            "           ^^^^^^^^^^^^^^^^^^^^^^^^^^^^^\n",
            "  File \"/opt/anaconda3/envs/ml_ai/lib/python3.11/site-packages/transformers/models/vit/modeling_vit.py\", line 367, in forward\n",
            "    hidden_states = self.dense(hidden_states)\n",
            "                    ^^^^^^^^^^^^^^^^^^^^^^^^^\n",
            "  File \"/opt/anaconda3/envs/ml_ai/lib/python3.11/site-packages/torch/nn/modules/module.py\", line 1736, in _wrapped_call_impl\n",
            "    return self._call_impl(*args, **kwargs)\n",
            "           ^^^^^^^^^^^^^^^^^^^^^^^^^^^^^^^^\n",
            "  File \"/opt/anaconda3/envs/ml_ai/lib/python3.11/site-packages/torch/nn/modules/module.py\", line 1747, in _call_impl\n",
            "    return forward_call(*args, **kwargs)\n",
            "           ^^^^^^^^^^^^^^^^^^^^^^^^^^^^^\n",
            "  File \"/opt/anaconda3/envs/ml_ai/lib/python3.11/site-packages/torch/nn/modules/linear.py\", line 125, in forward\n",
            "    return F.linear(input, self.weight, self.bias)\n",
            "           ^^^^^^^^^^^^^^^^^^^^^^^^^^^^^^^^^^^^^^^\n",
            "KeyboardInterrupt\n"
          ]
        }
      ],
      "source": [
        "! python vit.py -data_dir {new_dataset} -n_epochs 1 -batch_size 16"
      ]
    },
    {
      "cell_type": "code",
      "execution_count": 49,
      "metadata": {},
      "outputs": [],
      "source": [
        "%matplotlib inline\n",
        "%matplotlib notebook\n"
      ]
    },
    {
      "cell_type": "code",
      "execution_count": 53,
      "metadata": {},
      "outputs": [
        {
          "name": "stderr",
          "output_type": "stream",
          "text": [
            "python(8361) MallocStackLogging: can't turn off malloc stack logging because it was not enabled.\n"
          ]
        },
        {
          "name": "stdout",
          "output_type": "stream",
          "text": [
            "/Users/veramazeeva/Library/CloudStorage/OneDrive-Personal/Carnegie Mellon/CompMed/project/code/gradcam.py:117: FutureWarning: You are using `torch.load` with `weights_only=False` (the current default value), which uses the default pickle module implicitly. It is possible to construct malicious pickle data which will execute arbitrary code during unpickling (See https://github.com/pytorch/pytorch/blob/main/SECURITY.md#untrusted-models for more details). In a future release, the default value for `weights_only` will be flipped to `True`. This limits the functions that could be executed during unpickling. Arbitrary objects will no longer be allowed to be loaded via this mode unless they are explicitly allowlisted by the user via `torch.serialization.add_safe_globals`. We recommend you start setting `weights_only=True` for any use case where you don't have full control of the loaded file. Please open an issue on GitHub for any issues related to this experimental feature.\n",
            "  model.load_state_dict(torch.load(args.model_path, map_location=DEVICE))\n",
            "Input Image Shape: torch.Size([1, 1, 256, 256])\n",
            "Heatmap shape: (256, 256, 3)\n",
            "Image shape: (256, 256, 3)\n",
            "Saved Grad-CAM overlay to gradcam_overlay.jpg\n",
            "Figure(640x480)\n"
          ]
        }
      ],
      "source": [
        "! python gradcam.py -model_path '../models/SimpleCNN_lr0.001_img256_b16.pth' -model_type SimpleCNN -img_path '../chest_xray/train/PNEUMONIA/person1_bacteria_1.jpeg' -img_class 1"
      ]
    },
    {
      "cell_type": "code",
      "execution_count": 52,
      "metadata": {},
      "outputs": [
        {
          "data": {
            "image/jpeg": "[encoded data removed]",
            "text/plain": [
              "<IPython.core.display.Image object>"
            ]
          },
          "metadata": {},
          "output_type": "display_data"
        }
      ],
      "source": [
        "from IPython.display import Image, display\n",
        "display(Image(\"gradcam_overlay.jpg\"))"
      ]
    },
    {
      "cell_type": "code",
      "execution_count": 54,
      "metadata": {},
      "outputs": [
        {
          "data": {
            "image/jpeg": "[encoded data removed]",
            "text/plain": [
              "<IPython.core.display.Image object>"
            ]
          },
          "metadata": {},
          "output_type": "display_data"
        }
      ],
      "source": [
        "from IPython.display import Image, display\n",
        "display(Image(\"gradcam_overlay.jpg\"))"
      ]
    }
  ],
  "metadata": {
    "accelerator": "GPU",
    "colab": {
      "gpuType": "T4",
      "provenance": []
    },
    "kernelspec": {
      "display_name": "Python 3",
      "name": "python3"
    },
    "language_info": {
      "codemirror_mode": {
        "name": "ipython",
        "version": 3
      },
      "file_extension": ".py",
      "mimetype": "text/x-python",
      "name": "python",
      "nbconvert_exporter": "python",
      "pygments_lexer": "ipython3",
      "version": "3.11.10"
    }
  },
  "nbformat": 4,
  "nbformat_minor": 0
}
