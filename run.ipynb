{
 "cells": [
  {
   "cell_type": "code",
   "execution_count": 5,
   "metadata": {},
   "outputs": [],
   "source": [
    "import kagglehub\n",
    "import os"
   ]
  },
  {
   "cell_type": "code",
   "execution_count": 6,
   "metadata": {},
   "outputs": [],
   "source": [
    "# Download latest version\n",
    "data_path = kagglehub.dataset_download(\"paultimothymooney/chest-xray-pneumonia\")\n",
    "data_path = os.path.join(data_path, 'chest_xray')"
   ]
  },
  {
   "cell_type": "code",
   "execution_count": 7,
   "metadata": {},
   "outputs": [],
   "source": [
    "os.environ[\"WANDB_SILENT\"] = \"true\""
   ]
  },
  {
   "cell_type": "code",
   "execution_count": 8,
   "metadata": {},
   "outputs": [
    {
     "name": "stdout",
     "output_type": "stream",
     "text": [
      "Number of classes    :  2\n",
      "Shape of image       :  torch.Size([1, 256, 256])\n",
      "Train batches        :  82\n",
      "No. of train images  :  5216\n",
      "No. of valid images  :  16\n",
      "Labels               :  {'NORMAL': 0, 'PNEUMONIA': 1}\n",
      "Image stats (mean, std):  tensor(0.5519) tensor(0.2131)\n",
      "----------------------------------------------------------------\n",
      "        Layer (type)               Output Shape         Param #\n",
      "================================================================\n",
      "            Conv2d-1          [-1, 128, 64, 64]           2,176\n",
      "         LayerNorm-2          [-1, 128, 64, 64]       1,048,576\n",
      "            Conv2d-3          [-1, 128, 64, 64]         802,944\n",
      "         LayerNorm-4          [-1, 128, 64, 64]       1,048,576\n",
      "            Conv2d-5          [-1, 256, 64, 64]          33,024\n",
      "              GELU-6          [-1, 256, 64, 64]               0\n",
      "            Conv2d-7          [-1, 128, 64, 64]          32,896\n",
      "         AvgPool2d-8          [-1, 128, 32, 32]               0\n",
      "           Flatten-9               [-1, 131072]               0\n",
      "           Linear-10                    [-1, 2]         262,146\n",
      "================================================================\n",
      "Total params: 3,230,338\n",
      "Trainable params: 3,230,338\n",
      "Non-trainable params: 0\n",
      "----------------------------------------------------------------\n",
      "Input size (MB): 0.25\n",
      "Forward/backward pass size (MB): 38.00\n",
      "Params size (MB): 12.32\n",
      "Estimated Total Size (MB): 50.57\n",
      "----------------------------------------------------------------\n",
      "\n",
      "Epoch 1\n",
      "----------------------\n",
      "Train:  77%|██████▉  | 63/82 [02:33<00:41,  2.17s/it, acc=76.3393%, loss=6.6371]"
     ]
    }
   ],
   "source": [
    "! python cnn.py -data_dir {data_path} -v -out_dir '/out'"
   ]
  }
 ],
 "metadata": {
  "kernelspec": {
   "display_name": "base",
   "language": "python",
   "name": "python3"
  },
  "language_info": {
   "codemirror_mode": {
    "name": "ipython",
    "version": 3
   },
   "file_extension": ".py",
   "mimetype": "text/x-python",
   "name": "python",
   "nbconvert_exporter": "python",
   "pygments_lexer": "ipython3",
   "version": "3.11.10"
  }
 },
 "nbformat": 4,
 "nbformat_minor": 2
}
