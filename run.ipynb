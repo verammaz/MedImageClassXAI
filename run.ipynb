{
 "cells": [
  {
   "cell_type": "code",
   "execution_count": 5,
   "metadata": {},
   "outputs": [],
   "source": [
    "import kagglehub\n",
    "import os"
   ]
  },
  {
   "cell_type": "code",
   "execution_count": 6,
   "metadata": {},
   "outputs": [],
   "source": [
    "# Download latest version\n",
    "data_path = kagglehub.dataset_download(\"paultimothymooney/chest-xray-pneumonia\")\n",
    "data_path = os.path.join(data_path, 'chest_xray')"
   ]
  },
  {
   "cell_type": "code",
   "execution_count": 7,
   "metadata": {},
   "outputs": [],
   "source": [
    "os.environ[\"WANDB_SILENT\"] = \"true\""
   ]
  },
  {
   "cell_type": "code",
   "execution_count": 17,
   "metadata": {},
   "outputs": [
    {
     "name": "stdout",
     "output_type": "stream",
     "text": [
      "Number of classes    :  2\n",
      "Shape of image       :  torch.Size([1, 256, 256])\n",
      "Train batches        :  82\n",
      "No. of train images  :  5216\n",
      "No. of valid images  :  16\n",
      "Labels               :  {'NORMAL': 0, 'PNEUMONIA': 1}\n",
      "Image stats (mean, std):  tensor(0.5519) tensor(0.2131)\n",
      "----------------------------------------------------------------\n",
      "        Layer (type)               Output Shape         Param #\n",
      "================================================================\n",
      "            Conv2d-1          [-1, 128, 64, 64]           2,176\n",
      "         LayerNorm-2          [-1, 128, 64, 64]       1,048,576\n",
      "            Conv2d-3          [-1, 128, 64, 64]         802,944\n",
      "         LayerNorm-4          [-1, 128, 64, 64]       1,048,576\n",
      "            Conv2d-5          [-1, 256, 64, 64]          33,024\n",
      "              GELU-6          [-1, 256, 64, 64]               0\n",
      "            Conv2d-7          [-1, 128, 64, 64]          32,896\n",
      "         AvgPool2d-8          [-1, 128, 32, 32]               0\n",
      "           Flatten-9               [-1, 131072]               0\n",
      "           Linear-10                    [-1, 2]         262,146\n",
      "================================================================\n",
      "Total params: 3,230,338\n",
      "Trainable params: 3,230,338\n",
      "Non-trainable params: 0\n",
      "----------------------------------------------------------------\n",
      "Input size (MB): 0.25\n",
      "Forward/backward pass size (MB): 38.00\n",
      "Params size (MB): 12.32\n",
      "Estimated Total Size (MB): 50.57\n",
      "----------------------------------------------------------------\n",
      "\n",
      "Epoch 1\n",
      "----------------------\n",
      "Train Loss: 0.3654598875380144, Train Accuracy: 91.61585365853658               \n",
      "Val Loss: 0.5009012222290039, Val Accuracy: 21.875                              \n",
      "Test Loss: 1.5657539367675781, Test Accuracy: 77.5                              \n",
      "Done!\n",
      "\n",
      "Final Model Performance:\n",
      "-------------------\n",
      "Loss: 1.5591718077659606, Accuracy: 77.5                                        \n",
      "Confusion Matrix\n",
      ": [[361  99]\n",
      " [ 29 135]]\n",
      "Sensitivity: 0.9256410256410257, Specificity: 0.5769230769230769\n",
      "Traceback (most recent call last):\n",
      "  File \"/Users/veramazeeva/Library/CloudStorage/OneDrive-Personal/Carnegie Mellon/CompMed/project/code/cnn.py\", line 306, in <module>\n",
      "    main()\n",
      "  File \"/Users/veramazeeva/Library/CloudStorage/OneDrive-Personal/Carnegie Mellon/CompMed/project/code/cnn.py\", line 301, in main\n",
      "    os.mkdir(args.out_dir)\n",
      "FileExistsError: [Errno 17] File exists: 'out'\n",
      "\u001b[1;34mwandb\u001b[0m: 🚀 View run \u001b[33msolar-wind-11\u001b[0m at: \u001b[34mhttps://wandb.ai/vmazeeva-carnegie-mellon-university/compmed/runs/ejlq1366\u001b[0m\n",
      "\u001b[1;34mwandb\u001b[0m: Find logs at: \u001b[1;35mwandb/run-20241127_215108-ejlq1366/logs\u001b[0m\n"
     ]
    }
   ],
   "source": [
    "! python cnn.py -data_dir {data_path} -v -out_dir 'out' -n_epochs 1"
   ]
  }
 ],
 "metadata": {
  "kernelspec": {
   "display_name": "base",
   "language": "python",
   "name": "python3"
  },
  "language_info": {
   "codemirror_mode": {
    "name": "ipython",
    "version": 3
   },
   "file_extension": ".py",
   "mimetype": "text/x-python",
   "name": "python",
   "nbconvert_exporter": "python",
   "pygments_lexer": "ipython3",
   "version": "3.11.10"
  }
 },
 "nbformat": 4,
 "nbformat_minor": 2
}
