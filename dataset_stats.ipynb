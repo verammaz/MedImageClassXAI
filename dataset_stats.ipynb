{
 "cells": [
  {
   "cell_type": "code",
   "execution_count": 1,
   "metadata": {},
   "outputs": [],
   "source": [
    "import os\n",
    "import pandas as pd"
   ]
  },
  {
   "cell_type": "code",
   "execution_count": 4,
   "metadata": {},
   "outputs": [
    {
     "name": "stdout",
     "output_type": "stream",
     "text": [
      "       NORMAL  PNEUMONIA  Total\n",
      "train    1258       3427   4685\n",
      "test      167        418    585\n",
      "val       158        428    586\n",
      "Total    1583       4273   5856\n"
     ]
    }
   ],
   "source": [
    "\n",
    "folder = \"../chest_xray\"\n",
    "\n",
    "class_counts = {\"train\": {\"NORMAL\": 0, \"PNEUMONIA\": 0}, \n",
    "                \"test\": {\"NORMAL\": 0, \"PNEUMONIA\": 0}, \n",
    "                \"val\": {\"NORMAL\": 0, \"PNEUMONIA\": 0}}\n",
    "\n",
    "for split in class_counts.keys():\n",
    "    folder_path = os.path.join(folder, split)\n",
    "    \n",
    "    if not os.path.exists(folder_path):\n",
    "        print(f\"Warning: Folder '{folder_path}' does not exist.\")\n",
    "        continue\n",
    "    \n",
    "    for class_name in class_counts[split].keys():\n",
    "        class_folder_path = os.path.join(folder_path, class_name)\n",
    "        \n",
    "        if os.path.exists(class_folder_path):\n",
    "            class_counts[split][class_name] = len([\n",
    "                file for file in os.listdir(class_folder_path) \n",
    "                if os.path.isfile(os.path.join(class_folder_path, file))\n",
    "            ])\n",
    "        else:\n",
    "            print(f\"Warning: Folder '{class_folder_path}' does not exist.\")\n",
    "\n",
    "totals = {\"NORMAL\": 0, \"PNEUMONIA\": 0, \"Total\": 0}\n",
    "for folder, counts in class_counts.items():\n",
    "    for class_name, count in counts.items():\n",
    "        totals[class_name] += count\n",
    "        totals[\"Total\"] += count\n",
    "\n",
    "df = pd.DataFrame(class_counts).T\n",
    "df[\"Total\"] = df[\"NORMAL\"] + df[\"PNEUMONIA\"]\n",
    "totals_df = pd.DataFrame([totals], index=[\"Total\"])\n",
    "\n",
    "result_df = pd.concat([df, totals_df])\n",
    "\n",
    "print(result_df)\n"
   ]
  },
  {
   "cell_type": "code",
   "execution_count": 8,
   "metadata": {},
   "outputs": [
    {
     "name": "stderr",
     "output_type": "stream",
     "text": [
      "Processing train/NORMAL: 100%|██████████| 1258/1258 [00:13<00:00, 95.72it/s] \n",
      "Processing train/PNEUMONIA: 100%|██████████| 3427/3427 [00:11<00:00, 286.03it/s]\n",
      "Processing test/NORMAL: 100%|██████████| 167/167 [00:01<00:00, 97.65it/s] \n",
      "Processing test/PNEUMONIA: 100%|██████████| 418/418 [00:01<00:00, 262.57it/s]\n",
      "Processing val/NORMAL: 100%|██████████| 158/158 [00:01<00:00, 108.17it/s]\n",
      "Processing val/PNEUMONIA: 100%|██████████| 428/428 [00:01<00:00, 298.95it/s]"
     ]
    },
    {
     "name": "stdout",
     "output_type": "stream",
     "text": [
      "Mean: 0.488149493932724\n",
      "Standard Deviation: 0.24423697590827942\n"
     ]
    },
    {
     "name": "stderr",
     "output_type": "stream",
     "text": [
      "\n"
     ]
    }
   ],
   "source": [
    "import os\n",
    "from PIL import Image\n",
    "import torch\n",
    "from torchvision import transforms\n",
    "from tqdm import tqdm  # For showing progress bar\n",
    "\n",
    "# Replace this with the path to your dataset folder\n",
    "main_folder_path = '../chest_xray'\n",
    "\n",
    "# Define image transform to convert to tensor\n",
    "transform = transforms.Compose([\n",
    "    transforms.ToTensor()  # Converts to tensor and scales to [0, 1]\n",
    "])\n",
    "\n",
    "# Initialize variables to compute mean and std\n",
    "sum_pixel_values = 0.0\n",
    "sum_squared_pixel_values = 0.0\n",
    "total_pixels = 0\n",
    "\n",
    "# Loop through all subfolders and images\n",
    "for folder in [\"train\", \"test\", \"val\"]:\n",
    "    folder_path = os.path.join(main_folder_path, folder)\n",
    "    \n",
    "    for class_name in [\"NORMAL\", \"PNEUMONIA\"]:\n",
    "        class_folder_path = os.path.join(folder_path, class_name)\n",
    "        \n",
    "        if os.path.exists(class_folder_path):\n",
    "            for image_name in tqdm(os.listdir(class_folder_path), desc=f\"Processing {folder}/{class_name}\"):\n",
    "                image_path = os.path.join(class_folder_path, image_name)\n",
    "                \n",
    "                # Open the image\n",
    "                with Image.open(image_path) as img:\n",
    "                    # Convert to tensor\n",
    "                    img_tensor = transform(img)\n",
    "                    \n",
    "                    # Accumulate pixel values and squared pixel values\n",
    "                    sum_pixel_values += img_tensor.sum()\n",
    "                    sum_squared_pixel_values += (img_tensor ** 2).sum()\n",
    "                    total_pixels += img_tensor.numel()  # Total number of pixels\n",
    "\n",
    "# Compute mean and std\n",
    "mean = sum_pixel_values / total_pixels\n",
    "std = (sum_squared_pixel_values / total_pixels - mean ** 2).sqrt()\n",
    "\n",
    "# Print the results\n",
    "print(f\"Mean: {mean.item()}\")\n",
    "print(f\"Standard Deviation: {std.item()}\")\n"
   ]
  }
 ],
 "metadata": {
  "kernelspec": {
   "display_name": "ml_ai",
   "language": "python",
   "name": "python3"
  },
  "language_info": {
   "codemirror_mode": {
    "name": "ipython",
    "version": 3
   },
   "file_extension": ".py",
   "mimetype": "text/x-python",
   "name": "python",
   "nbconvert_exporter": "python",
   "pygments_lexer": "ipython3",
   "version": "3.11.10"
  }
 },
 "nbformat": 4,
 "nbformat_minor": 2
}
